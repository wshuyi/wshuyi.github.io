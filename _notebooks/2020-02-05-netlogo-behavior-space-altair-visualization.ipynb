{
 "cells": [
  {
   "cell_type": "markdown",
   "metadata": {},
   "source": [
    "## 数据导入"
   ]
  },
  {
   "cell_type": "markdown",
   "metadata": {},
   "source": [
    "首先是导入 Pandas 软件包。"
   ]
  },
  {
   "cell_type": "code",
   "execution_count": 1,
   "metadata": {},
   "outputs": [],
   "source": [
    "import pandas as pd"
   ]
  },
  {
   "cell_type": "markdown",
   "metadata": {},
   "source": [
    "下面读入从 Netlogo 的行为空间生成的 csv 文件。注意这个文件的开头几行分别是：\n",
    "\n",
    "![](https://tva1.sinaimg.cn/large/006tNbRwly1gblq05ddawj30bm06u3zl.jpg)\n",
    "\n",
    "所以，我们需要使用 `skiprows` 来跳过前面这几行，然后因为剩下的内容里面，第一列是标题，所以这里把它设定成为 `index_col` 。"
   ]
  },
  {
   "cell_type": "code",
   "execution_count": 2,
   "metadata": {},
   "outputs": [],
   "source": [
    "df = pd.read_csv(\"lesson8-gini-spreadsheet.csv\", skiprows=6, index_col=0)"
   ]
  },
  {
   "cell_type": "markdown",
   "metadata": {},
   "source": [
    "来看看此时的数据框："
   ]
  },
  {
   "cell_type": "code",
   "execution_count": 3,
   "metadata": {},
   "outputs": [
    {
     "data": {
      "text/html": [
       "<div>\n",
       "<style scoped>\n",
       "    .dataframe tbody tr th:only-of-type {\n",
       "        vertical-align: middle;\n",
       "    }\n",
       "\n",
       "    .dataframe tbody tr th {\n",
       "        vertical-align: top;\n",
       "    }\n",
       "\n",
       "    .dataframe thead th {\n",
       "        text-align: right;\n",
       "    }\n",
       "</style>\n",
       "<table border=\"1\" class=\"dataframe\">\n",
       "  <thead>\n",
       "    <tr style=\"text-align: right;\">\n",
       "      <th></th>\n",
       "      <th>1</th>\n",
       "      <th>2</th>\n",
       "      <th>3</th>\n",
       "      <th>4</th>\n",
       "      <th>5</th>\n",
       "      <th>6</th>\n",
       "      <th>7</th>\n",
       "      <th>8</th>\n",
       "      <th>9</th>\n",
       "      <th>10</th>\n",
       "      <th>...</th>\n",
       "      <th>1991</th>\n",
       "      <th>1992</th>\n",
       "      <th>1993</th>\n",
       "      <th>1994</th>\n",
       "      <th>1995</th>\n",
       "      <th>1996</th>\n",
       "      <th>1997</th>\n",
       "      <th>1998</th>\n",
       "      <th>1999</th>\n",
       "      <th>2000</th>\n",
       "    </tr>\n",
       "    <tr>\n",
       "      <th>[run number]</th>\n",
       "      <th></th>\n",
       "      <th></th>\n",
       "      <th></th>\n",
       "      <th></th>\n",
       "      <th></th>\n",
       "      <th></th>\n",
       "      <th></th>\n",
       "      <th></th>\n",
       "      <th></th>\n",
       "      <th></th>\n",
       "      <th></th>\n",
       "      <th></th>\n",
       "      <th></th>\n",
       "      <th></th>\n",
       "      <th></th>\n",
       "      <th></th>\n",
       "      <th></th>\n",
       "      <th></th>\n",
       "      <th></th>\n",
       "      <th></th>\n",
       "      <th></th>\n",
       "    </tr>\n",
       "  </thead>\n",
       "  <tbody>\n",
       "    <tr>\n",
       "      <th>total-money</th>\n",
       "      <td>10000</td>\n",
       "      <td>10000</td>\n",
       "      <td>10000</td>\n",
       "      <td>10000</td>\n",
       "      <td>10000</td>\n",
       "      <td>10000</td>\n",
       "      <td>10000</td>\n",
       "      <td>10000</td>\n",
       "      <td>10000</td>\n",
       "      <td>10000</td>\n",
       "      <td>...</td>\n",
       "      <td>100000</td>\n",
       "      <td>100000</td>\n",
       "      <td>100000</td>\n",
       "      <td>100000</td>\n",
       "      <td>100000</td>\n",
       "      <td>100000</td>\n",
       "      <td>100000</td>\n",
       "      <td>100000</td>\n",
       "      <td>100000</td>\n",
       "      <td>100000</td>\n",
       "    </tr>\n",
       "    <tr>\n",
       "      <th>num-agents</th>\n",
       "      <td>100</td>\n",
       "      <td>100</td>\n",
       "      <td>100</td>\n",
       "      <td>100</td>\n",
       "      <td>100</td>\n",
       "      <td>100</td>\n",
       "      <td>100</td>\n",
       "      <td>100</td>\n",
       "      <td>100</td>\n",
       "      <td>100</td>\n",
       "      <td>...</td>\n",
       "      <td>1000</td>\n",
       "      <td>1000</td>\n",
       "      <td>1000</td>\n",
       "      <td>1000</td>\n",
       "      <td>1000</td>\n",
       "      <td>1000</td>\n",
       "      <td>1000</td>\n",
       "      <td>1000</td>\n",
       "      <td>1000</td>\n",
       "      <td>1000</td>\n",
       "    </tr>\n",
       "    <tr>\n",
       "      <th>saving?</th>\n",
       "      <td>false</td>\n",
       "      <td>false</td>\n",
       "      <td>false</td>\n",
       "      <td>false</td>\n",
       "      <td>false</td>\n",
       "      <td>false</td>\n",
       "      <td>false</td>\n",
       "      <td>false</td>\n",
       "      <td>false</td>\n",
       "      <td>false</td>\n",
       "      <td>...</td>\n",
       "      <td>true</td>\n",
       "      <td>true</td>\n",
       "      <td>true</td>\n",
       "      <td>true</td>\n",
       "      <td>true</td>\n",
       "      <td>true</td>\n",
       "      <td>true</td>\n",
       "      <td>true</td>\n",
       "      <td>true</td>\n",
       "      <td>true</td>\n",
       "    </tr>\n",
       "    <tr>\n",
       "      <th>[steps]</th>\n",
       "      <td>1000</td>\n",
       "      <td>1000</td>\n",
       "      <td>1000</td>\n",
       "      <td>1000</td>\n",
       "      <td>1000</td>\n",
       "      <td>1000</td>\n",
       "      <td>1000</td>\n",
       "      <td>1000</td>\n",
       "      <td>1000</td>\n",
       "      <td>1000</td>\n",
       "      <td>...</td>\n",
       "      <td>1000</td>\n",
       "      <td>1000</td>\n",
       "      <td>1000</td>\n",
       "      <td>1000</td>\n",
       "      <td>1000</td>\n",
       "      <td>1000</td>\n",
       "      <td>1000</td>\n",
       "      <td>1000</td>\n",
       "      <td>1000</td>\n",
       "      <td>1000</td>\n",
       "    </tr>\n",
       "    <tr>\n",
       "      <th>[initial &amp; final values]</th>\n",
       "      <td>compute-gini</td>\n",
       "      <td>compute-gini</td>\n",
       "      <td>compute-gini</td>\n",
       "      <td>compute-gini</td>\n",
       "      <td>compute-gini</td>\n",
       "      <td>compute-gini</td>\n",
       "      <td>compute-gini</td>\n",
       "      <td>compute-gini</td>\n",
       "      <td>compute-gini</td>\n",
       "      <td>compute-gini</td>\n",
       "      <td>...</td>\n",
       "      <td>compute-gini</td>\n",
       "      <td>compute-gini</td>\n",
       "      <td>compute-gini</td>\n",
       "      <td>compute-gini</td>\n",
       "      <td>compute-gini</td>\n",
       "      <td>compute-gini</td>\n",
       "      <td>compute-gini</td>\n",
       "      <td>compute-gini</td>\n",
       "      <td>compute-gini</td>\n",
       "      <td>compute-gini</td>\n",
       "    </tr>\n",
       "    <tr>\n",
       "      <th>NaN</th>\n",
       "      <td>0.42062473965752134</td>\n",
       "      <td>0.5006348336058749</td>\n",
       "      <td>0.49393353338078494</td>\n",
       "      <td>0.5073621024743512</td>\n",
       "      <td>0.4853796586466097</td>\n",
       "      <td>0.45746503189312104</td>\n",
       "      <td>0.4573222810974193</td>\n",
       "      <td>0.5239413840065117</td>\n",
       "      <td>0.47050704178887803</td>\n",
       "      <td>0.4842621233558364</td>\n",
       "      <td>...</td>\n",
       "      <td>0.6995618052497102</td>\n",
       "      <td>0.7754577175033197</td>\n",
       "      <td>0.7856686680925841</td>\n",
       "      <td>0.7339137273175398</td>\n",
       "      <td>0.7104869820317155</td>\n",
       "      <td>0.7560097962529742</td>\n",
       "      <td>0.779969921453448</td>\n",
       "      <td>0.743097027090142</td>\n",
       "      <td>0.7512450510464614</td>\n",
       "      <td>0.774020884778738</td>\n",
       "    </tr>\n",
       "  </tbody>\n",
       "</table>\n",
       "<p>6 rows × 2000 columns</p>\n",
       "</div>"
      ],
      "text/plain": [
       "                                            1                   2  \\\n",
       "[run number]                                                        \n",
       "total-money                             10000               10000   \n",
       "num-agents                                100                 100   \n",
       "saving?                                 false               false   \n",
       "[steps]                                  1000                1000   \n",
       "[initial & final values]         compute-gini        compute-gini   \n",
       "NaN                       0.42062473965752134  0.5006348336058749   \n",
       "\n",
       "                                            3                   4  \\\n",
       "[run number]                                                        \n",
       "total-money                             10000               10000   \n",
       "num-agents                                100                 100   \n",
       "saving?                                 false               false   \n",
       "[steps]                                  1000                1000   \n",
       "[initial & final values]         compute-gini        compute-gini   \n",
       "NaN                       0.49393353338078494  0.5073621024743512   \n",
       "\n",
       "                                           5                    6  \\\n",
       "[run number]                                                        \n",
       "total-money                            10000                10000   \n",
       "num-agents                               100                  100   \n",
       "saving?                                false                false   \n",
       "[steps]                                 1000                 1000   \n",
       "[initial & final values]        compute-gini         compute-gini   \n",
       "NaN                       0.4853796586466097  0.45746503189312104   \n",
       "\n",
       "                                           7                   8  \\\n",
       "[run number]                                                       \n",
       "total-money                            10000               10000   \n",
       "num-agents                               100                 100   \n",
       "saving?                                false               false   \n",
       "[steps]                                 1000                1000   \n",
       "[initial & final values]        compute-gini        compute-gini   \n",
       "NaN                       0.4573222810974193  0.5239413840065117   \n",
       "\n",
       "                                            9                  10  ...  \\\n",
       "[run number]                                                       ...   \n",
       "total-money                             10000               10000  ...   \n",
       "num-agents                                100                 100  ...   \n",
       "saving?                                 false               false  ...   \n",
       "[steps]                                  1000                1000  ...   \n",
       "[initial & final values]         compute-gini        compute-gini  ...   \n",
       "NaN                       0.47050704178887803  0.4842621233558364  ...   \n",
       "\n",
       "                                        1991                1992  \\\n",
       "[run number]                                                       \n",
       "total-money                           100000              100000   \n",
       "num-agents                              1000                1000   \n",
       "saving?                                 true                true   \n",
       "[steps]                                 1000                1000   \n",
       "[initial & final values]        compute-gini        compute-gini   \n",
       "NaN                       0.6995618052497102  0.7754577175033197   \n",
       "\n",
       "                                        1993                1994  \\\n",
       "[run number]                                                       \n",
       "total-money                           100000              100000   \n",
       "num-agents                              1000                1000   \n",
       "saving?                                 true                true   \n",
       "[steps]                                 1000                1000   \n",
       "[initial & final values]        compute-gini        compute-gini   \n",
       "NaN                       0.7856686680925841  0.7339137273175398   \n",
       "\n",
       "                                        1995                1996  \\\n",
       "[run number]                                                       \n",
       "total-money                           100000              100000   \n",
       "num-agents                              1000                1000   \n",
       "saving?                                 true                true   \n",
       "[steps]                                 1000                1000   \n",
       "[initial & final values]        compute-gini        compute-gini   \n",
       "NaN                       0.7104869820317155  0.7560097962529742   \n",
       "\n",
       "                                       1997               1998  \\\n",
       "[run number]                                                     \n",
       "total-money                          100000             100000   \n",
       "num-agents                             1000               1000   \n",
       "saving?                                true               true   \n",
       "[steps]                                1000               1000   \n",
       "[initial & final values]       compute-gini       compute-gini   \n",
       "NaN                       0.779969921453448  0.743097027090142   \n",
       "\n",
       "                                        1999               2000  \n",
       "[run number]                                                     \n",
       "total-money                           100000             100000  \n",
       "num-agents                              1000               1000  \n",
       "saving?                                 true               true  \n",
       "[steps]                                 1000               1000  \n",
       "[initial & final values]        compute-gini       compute-gini  \n",
       "NaN                       0.7512450510464614  0.774020884778738  \n",
       "\n",
       "[6 rows x 2000 columns]"
      ]
     },
     "execution_count": 3,
     "metadata": {},
     "output_type": "execute_result"
    }
   ],
   "source": [
    "df"
   ]
  },
  {
   "cell_type": "markdown",
   "metadata": {},
   "source": [
    "显然，我们更喜欢把整个数据框转 90 度的样子。在 Pandas 里面，转置 90 度，需要使用 `.T`。\n",
    "\n",
    "转置之后，咱们看看前几行。"
   ]
  },
  {
   "cell_type": "code",
   "execution_count": 4,
   "metadata": {},
   "outputs": [
    {
     "data": {
      "text/html": [
       "<div>\n",
       "<style scoped>\n",
       "    .dataframe tbody tr th:only-of-type {\n",
       "        vertical-align: middle;\n",
       "    }\n",
       "\n",
       "    .dataframe tbody tr th {\n",
       "        vertical-align: top;\n",
       "    }\n",
       "\n",
       "    .dataframe thead th {\n",
       "        text-align: right;\n",
       "    }\n",
       "</style>\n",
       "<table border=\"1\" class=\"dataframe\">\n",
       "  <thead>\n",
       "    <tr style=\"text-align: right;\">\n",
       "      <th>[run number]</th>\n",
       "      <th>total-money</th>\n",
       "      <th>num-agents</th>\n",
       "      <th>saving?</th>\n",
       "      <th>[steps]</th>\n",
       "      <th>[initial &amp; final values]</th>\n",
       "      <th>NaN</th>\n",
       "    </tr>\n",
       "  </thead>\n",
       "  <tbody>\n",
       "    <tr>\n",
       "      <th>1</th>\n",
       "      <td>10000</td>\n",
       "      <td>100</td>\n",
       "      <td>false</td>\n",
       "      <td>1000</td>\n",
       "      <td>compute-gini</td>\n",
       "      <td>0.42062473965752134</td>\n",
       "    </tr>\n",
       "    <tr>\n",
       "      <th>2</th>\n",
       "      <td>10000</td>\n",
       "      <td>100</td>\n",
       "      <td>false</td>\n",
       "      <td>1000</td>\n",
       "      <td>compute-gini</td>\n",
       "      <td>0.5006348336058749</td>\n",
       "    </tr>\n",
       "    <tr>\n",
       "      <th>3</th>\n",
       "      <td>10000</td>\n",
       "      <td>100</td>\n",
       "      <td>false</td>\n",
       "      <td>1000</td>\n",
       "      <td>compute-gini</td>\n",
       "      <td>0.49393353338078494</td>\n",
       "    </tr>\n",
       "    <tr>\n",
       "      <th>4</th>\n",
       "      <td>10000</td>\n",
       "      <td>100</td>\n",
       "      <td>false</td>\n",
       "      <td>1000</td>\n",
       "      <td>compute-gini</td>\n",
       "      <td>0.5073621024743512</td>\n",
       "    </tr>\n",
       "    <tr>\n",
       "      <th>5</th>\n",
       "      <td>10000</td>\n",
       "      <td>100</td>\n",
       "      <td>false</td>\n",
       "      <td>1000</td>\n",
       "      <td>compute-gini</td>\n",
       "      <td>0.4853796586466097</td>\n",
       "    </tr>\n",
       "  </tbody>\n",
       "</table>\n",
       "</div>"
      ],
      "text/plain": [
       "[run number] total-money num-agents saving? [steps] [initial & final values]  \\\n",
       "1                  10000        100   false    1000             compute-gini   \n",
       "2                  10000        100   false    1000             compute-gini   \n",
       "3                  10000        100   false    1000             compute-gini   \n",
       "4                  10000        100   false    1000             compute-gini   \n",
       "5                  10000        100   false    1000             compute-gini   \n",
       "\n",
       "[run number]                  NaN  \n",
       "1             0.42062473965752134  \n",
       "2              0.5006348336058749  \n",
       "3             0.49393353338078494  \n",
       "4              0.5073621024743512  \n",
       "5              0.4853796586466097  "
      ]
     },
     "execution_count": 4,
     "metadata": {},
     "output_type": "execute_result"
    }
   ],
   "source": [
    "df = df.T; df.head()"
   ]
  },
  {
   "cell_type": "markdown",
   "metadata": {},
   "source": [
    "这里面，有没有不需要的列？\n",
    "\n",
    "当然有。\n",
    "\n",
    "例如 `run number`，这个只是索引而已。\n",
    "\n",
    "例如 `steps` ，只是提示我们运行了多少步。这里是每一组实验，都运行了 1000 步，所以没有保留价值。\n",
    "\n",
    "还有 `initial & final values` 这一项，下面对应的，不是真正的数值，而是使用的报告函数名称。这个也没有必要保留。\n",
    "\n",
    "所以，咱们实际上需要保留的，是另外那几列。\n",
    "\n",
    "在 Pandas 里面，可以利用 `iloc` 来指定需要保留的行列。这里咱们保留所有行，但是扔掉刚才提及的列。"
   ]
  },
  {
   "cell_type": "code",
   "execution_count": 5,
   "metadata": {},
   "outputs": [
    {
     "data": {
      "text/html": [
       "<div>\n",
       "<style scoped>\n",
       "    .dataframe tbody tr th:only-of-type {\n",
       "        vertical-align: middle;\n",
       "    }\n",
       "\n",
       "    .dataframe tbody tr th {\n",
       "        vertical-align: top;\n",
       "    }\n",
       "\n",
       "    .dataframe thead th {\n",
       "        text-align: right;\n",
       "    }\n",
       "</style>\n",
       "<table border=\"1\" class=\"dataframe\">\n",
       "  <thead>\n",
       "    <tr style=\"text-align: right;\">\n",
       "      <th></th>\n",
       "      <th>total_money</th>\n",
       "      <th>num_agents</th>\n",
       "      <th>saving</th>\n",
       "      <th>gini</th>\n",
       "    </tr>\n",
       "  </thead>\n",
       "  <tbody>\n",
       "    <tr>\n",
       "      <th>1</th>\n",
       "      <td>10000</td>\n",
       "      <td>100</td>\n",
       "      <td>false</td>\n",
       "      <td>0.42062473965752134</td>\n",
       "    </tr>\n",
       "    <tr>\n",
       "      <th>2</th>\n",
       "      <td>10000</td>\n",
       "      <td>100</td>\n",
       "      <td>false</td>\n",
       "      <td>0.5006348336058749</td>\n",
       "    </tr>\n",
       "    <tr>\n",
       "      <th>3</th>\n",
       "      <td>10000</td>\n",
       "      <td>100</td>\n",
       "      <td>false</td>\n",
       "      <td>0.49393353338078494</td>\n",
       "    </tr>\n",
       "    <tr>\n",
       "      <th>4</th>\n",
       "      <td>10000</td>\n",
       "      <td>100</td>\n",
       "      <td>false</td>\n",
       "      <td>0.5073621024743512</td>\n",
       "    </tr>\n",
       "    <tr>\n",
       "      <th>5</th>\n",
       "      <td>10000</td>\n",
       "      <td>100</td>\n",
       "      <td>false</td>\n",
       "      <td>0.4853796586466097</td>\n",
       "    </tr>\n",
       "  </tbody>\n",
       "</table>\n",
       "</div>"
      ],
      "text/plain": [
       "  total_money num_agents saving                 gini\n",
       "1       10000        100  false  0.42062473965752134\n",
       "2       10000        100  false   0.5006348336058749\n",
       "3       10000        100  false  0.49393353338078494\n",
       "4       10000        100  false   0.5073621024743512\n",
       "5       10000        100  false   0.4853796586466097"
      ]
     },
     "execution_count": 5,
     "metadata": {},
     "output_type": "execute_result"
    }
   ],
   "source": [
    "df = df.iloc[:, [0, 1, 2, 5]]\n",
    "df.columns = [\"total_money\", \"num_agents\", \"saving\", \"gini\"]\n",
    "df.head()"
   ]
  },
  {
   "cell_type": "markdown",
   "metadata": {},
   "source": [
    "注意这里除了列选择以外，咱们还用 `columns` 修改了列名称。\n",
    "\n",
    "现在看起来，感觉好多了。\n",
    "\n",
    "## 聚合操作\n",
    "\n",
    "\n",
    "这里每一组的实验，我们实际上做了 10 次。这里主要是为了对抗随机性带来的偏差。所以平均值更能说明问题。\n",
    "\n",
    "我们尝试一下，利用 Pandas 里面的 `groupby()` 分组求平均。"
   ]
  },
  {
   "cell_type": "code",
   "execution_count": 6,
   "metadata": {},
   "outputs": [
    {
     "ename": "DataError",
     "evalue": "No numeric types to aggregate",
     "output_type": "error",
     "traceback": [
      "\u001b[0;31m---------------------------------------------------------------------------\u001b[0m",
      "\u001b[0;31mDataError\u001b[0m                                 Traceback (most recent call last)",
      "\u001b[0;32m<ipython-input-6-de7c74bea5f0>\u001b[0m in \u001b[0;36m<module>\u001b[0;34m\u001b[0m\n\u001b[0;32m----> 1\u001b[0;31m \u001b[0mdf\u001b[0m \u001b[0;34m=\u001b[0m \u001b[0mdf\u001b[0m\u001b[0;34m.\u001b[0m\u001b[0mgroupby\u001b[0m\u001b[0;34m(\u001b[0m\u001b[0;34m[\u001b[0m\u001b[0;34m\"total_money\"\u001b[0m\u001b[0;34m,\u001b[0m \u001b[0;34m\"num_agents\"\u001b[0m\u001b[0;34m,\u001b[0m \u001b[0;34m\"saving\"\u001b[0m\u001b[0;34m]\u001b[0m\u001b[0;34m)\u001b[0m\u001b[0;34m.\u001b[0m\u001b[0mmean\u001b[0m\u001b[0;34m(\u001b[0m\u001b[0;34m)\u001b[0m\u001b[0;34m.\u001b[0m\u001b[0mreset_index\u001b[0m\u001b[0;34m(\u001b[0m\u001b[0;34m)\u001b[0m\u001b[0;34m;\u001b[0m \u001b[0mdf\u001b[0m\u001b[0;34m.\u001b[0m\u001b[0mhead\u001b[0m\u001b[0;34m(\u001b[0m\u001b[0;34m)\u001b[0m\u001b[0;34m\u001b[0m\u001b[0;34m\u001b[0m\u001b[0m\n\u001b[0m",
      "\u001b[0;32m~/anaconda3/lib/python3.6/site-packages/pandas/core/groupby/groupby.py\u001b[0m in \u001b[0;36mmean\u001b[0;34m(self, *args, **kwargs)\u001b[0m\n\u001b[1;32m   1203\u001b[0m         \u001b[0;32mtry\u001b[0m\u001b[0;34m:\u001b[0m\u001b[0;34m\u001b[0m\u001b[0;34m\u001b[0m\u001b[0m\n\u001b[1;32m   1204\u001b[0m             return self._cython_agg_general(\n\u001b[0;32m-> 1205\u001b[0;31m                 \u001b[0;34m\"mean\"\u001b[0m\u001b[0;34m,\u001b[0m \u001b[0malt\u001b[0m\u001b[0;34m=\u001b[0m\u001b[0;32mlambda\u001b[0m \u001b[0mx\u001b[0m\u001b[0;34m,\u001b[0m \u001b[0maxis\u001b[0m\u001b[0;34m:\u001b[0m \u001b[0mSeries\u001b[0m\u001b[0;34m(\u001b[0m\u001b[0mx\u001b[0m\u001b[0;34m)\u001b[0m\u001b[0;34m.\u001b[0m\u001b[0mmean\u001b[0m\u001b[0;34m(\u001b[0m\u001b[0;34m**\u001b[0m\u001b[0mkwargs\u001b[0m\u001b[0;34m)\u001b[0m\u001b[0;34m,\u001b[0m \u001b[0;34m**\u001b[0m\u001b[0mkwargs\u001b[0m\u001b[0;34m\u001b[0m\u001b[0;34m\u001b[0m\u001b[0m\n\u001b[0m\u001b[1;32m   1206\u001b[0m             )\n\u001b[1;32m   1207\u001b[0m         \u001b[0;32mexcept\u001b[0m \u001b[0mGroupByError\u001b[0m\u001b[0;34m:\u001b[0m\u001b[0;34m\u001b[0m\u001b[0;34m\u001b[0m\u001b[0m\n",
      "\u001b[0;32m~/anaconda3/lib/python3.6/site-packages/pandas/core/groupby/generic.py\u001b[0m in \u001b[0;36m_cython_agg_general\u001b[0;34m(self, how, alt, numeric_only, min_count)\u001b[0m\n\u001b[1;32m    126\u001b[0m     \u001b[0;32mdef\u001b[0m \u001b[0m_cython_agg_general\u001b[0m\u001b[0;34m(\u001b[0m\u001b[0mself\u001b[0m\u001b[0;34m,\u001b[0m \u001b[0mhow\u001b[0m\u001b[0;34m,\u001b[0m \u001b[0malt\u001b[0m\u001b[0;34m=\u001b[0m\u001b[0;32mNone\u001b[0m\u001b[0;34m,\u001b[0m \u001b[0mnumeric_only\u001b[0m\u001b[0;34m=\u001b[0m\u001b[0;32mTrue\u001b[0m\u001b[0;34m,\u001b[0m \u001b[0mmin_count\u001b[0m\u001b[0;34m=\u001b[0m\u001b[0;34m-\u001b[0m\u001b[0;36m1\u001b[0m\u001b[0;34m)\u001b[0m\u001b[0;34m:\u001b[0m\u001b[0;34m\u001b[0m\u001b[0;34m\u001b[0m\u001b[0m\n\u001b[1;32m    127\u001b[0m         new_items, new_blocks = self._cython_agg_blocks(\n\u001b[0;32m--> 128\u001b[0;31m             \u001b[0mhow\u001b[0m\u001b[0;34m,\u001b[0m \u001b[0malt\u001b[0m\u001b[0;34m=\u001b[0m\u001b[0malt\u001b[0m\u001b[0;34m,\u001b[0m \u001b[0mnumeric_only\u001b[0m\u001b[0;34m=\u001b[0m\u001b[0mnumeric_only\u001b[0m\u001b[0;34m,\u001b[0m \u001b[0mmin_count\u001b[0m\u001b[0;34m=\u001b[0m\u001b[0mmin_count\u001b[0m\u001b[0;34m\u001b[0m\u001b[0;34m\u001b[0m\u001b[0m\n\u001b[0m\u001b[1;32m    129\u001b[0m         )\n\u001b[1;32m    130\u001b[0m         \u001b[0;32mreturn\u001b[0m \u001b[0mself\u001b[0m\u001b[0;34m.\u001b[0m\u001b[0m_wrap_agged_blocks\u001b[0m\u001b[0;34m(\u001b[0m\u001b[0mnew_items\u001b[0m\u001b[0;34m,\u001b[0m \u001b[0mnew_blocks\u001b[0m\u001b[0;34m)\u001b[0m\u001b[0;34m\u001b[0m\u001b[0;34m\u001b[0m\u001b[0m\n",
      "\u001b[0;32m~/anaconda3/lib/python3.6/site-packages/pandas/core/groupby/generic.py\u001b[0m in \u001b[0;36m_cython_agg_blocks\u001b[0;34m(self, how, alt, numeric_only, min_count)\u001b[0m\n\u001b[1;32m    186\u001b[0m \u001b[0;34m\u001b[0m\u001b[0m\n\u001b[1;32m    187\u001b[0m         \u001b[0;32mif\u001b[0m \u001b[0mlen\u001b[0m\u001b[0;34m(\u001b[0m\u001b[0mnew_blocks\u001b[0m\u001b[0;34m)\u001b[0m \u001b[0;34m==\u001b[0m \u001b[0;36m0\u001b[0m\u001b[0;34m:\u001b[0m\u001b[0;34m\u001b[0m\u001b[0;34m\u001b[0m\u001b[0m\n\u001b[0;32m--> 188\u001b[0;31m             \u001b[0;32mraise\u001b[0m \u001b[0mDataError\u001b[0m\u001b[0;34m(\u001b[0m\u001b[0;34m\"No numeric types to aggregate\"\u001b[0m\u001b[0;34m)\u001b[0m\u001b[0;34m\u001b[0m\u001b[0;34m\u001b[0m\u001b[0m\n\u001b[0m\u001b[1;32m    189\u001b[0m \u001b[0;34m\u001b[0m\u001b[0m\n\u001b[1;32m    190\u001b[0m         \u001b[0;31m# reset the locs in the blocks to correspond to our\u001b[0m\u001b[0;34m\u001b[0m\u001b[0;34m\u001b[0m\u001b[0;34m\u001b[0m\u001b[0m\n",
      "\u001b[0;31mDataError\u001b[0m: No numeric types to aggregate"
     ]
    }
   ],
   "source": [
    "df = df.groupby([\"total_money\", \"num_agents\", \"saving\"]).mean().reset_index(); df.head()"
   ]
  },
  {
   "cell_type": "markdown",
   "metadata": {},
   "source": [
    "看起来，效果很不乐观啊。\n",
    "\n",
    "为什么呢？\n",
    "\n",
    "难道是语法错误？\n",
    "\n",
    "注意这里的报错信息，说的是”没有数值类型来进行聚合操作“。\n",
    "\n",
    "问题来了，明明有啊。难道数据框里面的那些数，有问题吗？\n",
    "\n",
    "这时候，就需要你仔细了。\n",
    "\n",
    "你得验证一下。人看上去是数值，机器看上去呢？\n",
    "\n",
    "这里我们尝试用一下 Pandas 里面的 `dtypes` 查看一下每一列的类型"
   ]
  },
  {
   "cell_type": "code",
   "execution_count": 7,
   "metadata": {},
   "outputs": [
    {
     "data": {
      "text/plain": [
       "total_money    object\n",
       "num_agents     object\n",
       "saving         object\n",
       "gini           object\n",
       "dtype: object"
      ]
     },
     "execution_count": 7,
     "metadata": {},
     "output_type": "execute_result"
    }
   ],
   "source": [
    "df.dtypes"
   ]
  },
  {
   "cell_type": "markdown",
   "metadata": {},
   "source": [
    "这里你会看到，都是 `object` 类型。那么什么是`object` 类型呢？其实就是字符串。\n",
    "\n",
    "也就是说，你虽然看到了一堆数字和布尔值，但是在机器看来，它们都只是字符串而已。\n",
    "\n",
    "怎么办？\n",
    "\n",
    "我们转换它们。"
   ]
  },
  {
   "cell_type": "markdown",
   "metadata": {},
   "source": [
    "转换的方式，可是因不同列而异。\n",
    "\n",
    "例如说，对于数值型的，我们直接转换成整型（`int`）或者浮点型（`float`）就可以。需要调用的函数是 `astype()` 。"
   ]
  },
  {
   "cell_type": "code",
   "execution_count": 8,
   "metadata": {},
   "outputs": [],
   "source": [
    "df[\"total_money\"] = df[\"total_money\"].astype(float)\n",
    "df[\"num_agents\"] = df[\"num_agents\"].astype(int)\n",
    "df[\"gini\"] = df[\"gini\"].astype(float)"
   ]
  },
  {
   "cell_type": "markdown",
   "metadata": {},
   "source": [
    "但是，对于布尔型，就不是那么容易了。\n",
    "\n",
    "因为在 netlogo 里面，布尔型用 `true` 或者 `false` 来表示。\n",
    "\n",
    "而在 Python 里面，我们用 `True` 或者 `False` 。所以直接转换，会发生识别上的错误。\n",
    "\n",
    "怎么办呢？\n",
    "\n",
    "我们直接指定一个匿名函数，把字符串里面的 `true`，转换成布尔型的`True` 。\n",
    "\n"
   ]
  },
  {
   "cell_type": "code",
   "execution_count": 9,
   "metadata": {},
   "outputs": [],
   "source": [
    "df.saving = df.saving.apply(lambda x: True if x==\"true\" else False)"
   ]
  },
  {
   "cell_type": "markdown",
   "metadata": {},
   "source": [
    "此时，咱们再来看看数据框。"
   ]
  },
  {
   "cell_type": "code",
   "execution_count": 10,
   "metadata": {},
   "outputs": [
    {
     "data": {
      "text/html": [
       "<div>\n",
       "<style scoped>\n",
       "    .dataframe tbody tr th:only-of-type {\n",
       "        vertical-align: middle;\n",
       "    }\n",
       "\n",
       "    .dataframe tbody tr th {\n",
       "        vertical-align: top;\n",
       "    }\n",
       "\n",
       "    .dataframe thead th {\n",
       "        text-align: right;\n",
       "    }\n",
       "</style>\n",
       "<table border=\"1\" class=\"dataframe\">\n",
       "  <thead>\n",
       "    <tr style=\"text-align: right;\">\n",
       "      <th></th>\n",
       "      <th>total_money</th>\n",
       "      <th>num_agents</th>\n",
       "      <th>saving</th>\n",
       "      <th>gini</th>\n",
       "    </tr>\n",
       "  </thead>\n",
       "  <tbody>\n",
       "    <tr>\n",
       "      <th>1</th>\n",
       "      <td>10000.0</td>\n",
       "      <td>100</td>\n",
       "      <td>False</td>\n",
       "      <td>0.420625</td>\n",
       "    </tr>\n",
       "    <tr>\n",
       "      <th>2</th>\n",
       "      <td>10000.0</td>\n",
       "      <td>100</td>\n",
       "      <td>False</td>\n",
       "      <td>0.500635</td>\n",
       "    </tr>\n",
       "    <tr>\n",
       "      <th>3</th>\n",
       "      <td>10000.0</td>\n",
       "      <td>100</td>\n",
       "      <td>False</td>\n",
       "      <td>0.493934</td>\n",
       "    </tr>\n",
       "    <tr>\n",
       "      <th>4</th>\n",
       "      <td>10000.0</td>\n",
       "      <td>100</td>\n",
       "      <td>False</td>\n",
       "      <td>0.507362</td>\n",
       "    </tr>\n",
       "    <tr>\n",
       "      <th>5</th>\n",
       "      <td>10000.0</td>\n",
       "      <td>100</td>\n",
       "      <td>False</td>\n",
       "      <td>0.485380</td>\n",
       "    </tr>\n",
       "  </tbody>\n",
       "</table>\n",
       "</div>"
      ],
      "text/plain": [
       "   total_money  num_agents  saving      gini\n",
       "1      10000.0         100   False  0.420625\n",
       "2      10000.0         100   False  0.500635\n",
       "3      10000.0         100   False  0.493934\n",
       "4      10000.0         100   False  0.507362\n",
       "5      10000.0         100   False  0.485380"
      ]
     },
     "execution_count": 10,
     "metadata": {},
     "output_type": "execute_result"
    }
   ],
   "source": [
    "df.head()"
   ]
  },
  {
   "cell_type": "markdown",
   "metadata": {},
   "source": [
    "除了 `false` 的首字母大写了，好像也没有什么变化啊！\n",
    "\n",
    "别忙，我们尝试一下，看类型。"
   ]
  },
  {
   "cell_type": "code",
   "execution_count": 11,
   "metadata": {},
   "outputs": [
    {
     "data": {
      "text/plain": [
       "total_money    float64\n",
       "num_agents       int64\n",
       "saving            bool\n",
       "gini           float64\n",
       "dtype: object"
      ]
     },
     "execution_count": 11,
     "metadata": {},
     "output_type": "execute_result"
    }
   ],
   "source": [
    "df.dtypes"
   ]
  },
  {
   "cell_type": "markdown",
   "metadata": {},
   "source": [
    "看，这次没问题了。"
   ]
  },
  {
   "cell_type": "markdown",
   "metadata": {},
   "source": [
    "好了，让我们再度尝试一下，进行聚合，也就是 10 次随机试验的结果求均值。"
   ]
  },
  {
   "cell_type": "code",
   "execution_count": 12,
   "metadata": {},
   "outputs": [
    {
     "data": {
      "text/html": [
       "<div>\n",
       "<style scoped>\n",
       "    .dataframe tbody tr th:only-of-type {\n",
       "        vertical-align: middle;\n",
       "    }\n",
       "\n",
       "    .dataframe tbody tr th {\n",
       "        vertical-align: top;\n",
       "    }\n",
       "\n",
       "    .dataframe thead th {\n",
       "        text-align: right;\n",
       "    }\n",
       "</style>\n",
       "<table border=\"1\" class=\"dataframe\">\n",
       "  <thead>\n",
       "    <tr style=\"text-align: right;\">\n",
       "      <th></th>\n",
       "      <th>total_money</th>\n",
       "      <th>num_agents</th>\n",
       "      <th>saving</th>\n",
       "      <th>gini</th>\n",
       "    </tr>\n",
       "  </thead>\n",
       "  <tbody>\n",
       "    <tr>\n",
       "      <th>0</th>\n",
       "      <td>10000.0</td>\n",
       "      <td>100</td>\n",
       "      <td>False</td>\n",
       "      <td>0.480143</td>\n",
       "    </tr>\n",
       "    <tr>\n",
       "      <th>1</th>\n",
       "      <td>10000.0</td>\n",
       "      <td>100</td>\n",
       "      <td>True</td>\n",
       "      <td>0.606903</td>\n",
       "    </tr>\n",
       "    <tr>\n",
       "      <th>2</th>\n",
       "      <td>10000.0</td>\n",
       "      <td>200</td>\n",
       "      <td>False</td>\n",
       "      <td>0.495969</td>\n",
       "    </tr>\n",
       "    <tr>\n",
       "      <th>3</th>\n",
       "      <td>10000.0</td>\n",
       "      <td>200</td>\n",
       "      <td>True</td>\n",
       "      <td>0.662886</td>\n",
       "    </tr>\n",
       "    <tr>\n",
       "      <th>4</th>\n",
       "      <td>10000.0</td>\n",
       "      <td>300</td>\n",
       "      <td>False</td>\n",
       "      <td>0.493032</td>\n",
       "    </tr>\n",
       "  </tbody>\n",
       "</table>\n",
       "</div>"
      ],
      "text/plain": [
       "   total_money  num_agents  saving      gini\n",
       "0      10000.0         100   False  0.480143\n",
       "1      10000.0         100    True  0.606903\n",
       "2      10000.0         200   False  0.495969\n",
       "3      10000.0         200    True  0.662886\n",
       "4      10000.0         300   False  0.493032"
      ]
     },
     "execution_count": 12,
     "metadata": {},
     "output_type": "execute_result"
    }
   ],
   "source": [
    "df = df.groupby([\"total_money\", \"num_agents\", \"saving\"]).mean().reset_index(); df.head()"
   ]
  },
  {
   "cell_type": "markdown",
   "metadata": {},
   "source": [
    "目标达成！\n",
    "\n",
    "验证一下，看求均值聚合操作以后，还剩下多少行？"
   ]
  },
  {
   "cell_type": "code",
   "execution_count": 13,
   "metadata": {},
   "outputs": [
    {
     "data": {
      "text/plain": [
       "200"
      ]
     },
     "execution_count": 13,
     "metadata": {},
     "output_type": "execute_result"
    }
   ],
   "source": [
    "len(df)"
   ]
  },
  {
   "cell_type": "markdown",
   "metadata": {},
   "source": [
    "这就对了！"
   ]
  },
  {
   "cell_type": "markdown",
   "metadata": {},
   "source": [
    "## 可视化"
   ]
  },
  {
   "cell_type": "markdown",
   "metadata": {},
   "source": [
    "这里，我们采用 altair 进行可视化操作。这是 Python 数据可视化领域的后起之秀。"
   ]
  },
  {
   "cell_type": "markdown",
   "metadata": {},
   "source": [
    "首先读入软件包。"
   ]
  },
  {
   "cell_type": "code",
   "execution_count": 14,
   "metadata": {},
   "outputs": [],
   "source": [
    "import altair as alt"
   ]
  },
  {
   "cell_type": "markdown",
   "metadata": {},
   "source": [
    "然后，我们先来看看，锁定其中一个变量。例如 `num_agents` 固定为 100 的时候，其他变量的变化趋势。"
   ]
  },
  {
   "cell_type": "code",
   "execution_count": 15,
   "metadata": {},
   "outputs": [],
   "source": [
    "temp_df = df[df[\"num_agents\"]==100]"
   ]
  },
  {
   "cell_type": "code",
   "execution_count": 16,
   "metadata": {},
   "outputs": [
    {
     "data": {
      "text/html": [
       "<div>\n",
       "<style scoped>\n",
       "    .dataframe tbody tr th:only-of-type {\n",
       "        vertical-align: middle;\n",
       "    }\n",
       "\n",
       "    .dataframe tbody tr th {\n",
       "        vertical-align: top;\n",
       "    }\n",
       "\n",
       "    .dataframe thead th {\n",
       "        text-align: right;\n",
       "    }\n",
       "</style>\n",
       "<table border=\"1\" class=\"dataframe\">\n",
       "  <thead>\n",
       "    <tr style=\"text-align: right;\">\n",
       "      <th></th>\n",
       "      <th>total_money</th>\n",
       "      <th>num_agents</th>\n",
       "      <th>saving</th>\n",
       "      <th>gini</th>\n",
       "    </tr>\n",
       "  </thead>\n",
       "  <tbody>\n",
       "    <tr>\n",
       "      <th>0</th>\n",
       "      <td>10000.0</td>\n",
       "      <td>100</td>\n",
       "      <td>False</td>\n",
       "      <td>0.480143</td>\n",
       "    </tr>\n",
       "    <tr>\n",
       "      <th>1</th>\n",
       "      <td>10000.0</td>\n",
       "      <td>100</td>\n",
       "      <td>True</td>\n",
       "      <td>0.606903</td>\n",
       "    </tr>\n",
       "    <tr>\n",
       "      <th>20</th>\n",
       "      <td>20000.0</td>\n",
       "      <td>100</td>\n",
       "      <td>False</td>\n",
       "      <td>0.488479</td>\n",
       "    </tr>\n",
       "    <tr>\n",
       "      <th>21</th>\n",
       "      <td>20000.0</td>\n",
       "      <td>100</td>\n",
       "      <td>True</td>\n",
       "      <td>0.655820</td>\n",
       "    </tr>\n",
       "    <tr>\n",
       "      <th>40</th>\n",
       "      <td>30000.0</td>\n",
       "      <td>100</td>\n",
       "      <td>False</td>\n",
       "      <td>0.473415</td>\n",
       "    </tr>\n",
       "    <tr>\n",
       "      <th>41</th>\n",
       "      <td>30000.0</td>\n",
       "      <td>100</td>\n",
       "      <td>True</td>\n",
       "      <td>0.631622</td>\n",
       "    </tr>\n",
       "    <tr>\n",
       "      <th>60</th>\n",
       "      <td>40000.0</td>\n",
       "      <td>100</td>\n",
       "      <td>False</td>\n",
       "      <td>0.477590</td>\n",
       "    </tr>\n",
       "    <tr>\n",
       "      <th>61</th>\n",
       "      <td>40000.0</td>\n",
       "      <td>100</td>\n",
       "      <td>True</td>\n",
       "      <td>0.623049</td>\n",
       "    </tr>\n",
       "    <tr>\n",
       "      <th>80</th>\n",
       "      <td>50000.0</td>\n",
       "      <td>100</td>\n",
       "      <td>False</td>\n",
       "      <td>0.473747</td>\n",
       "    </tr>\n",
       "    <tr>\n",
       "      <th>81</th>\n",
       "      <td>50000.0</td>\n",
       "      <td>100</td>\n",
       "      <td>True</td>\n",
       "      <td>0.602335</td>\n",
       "    </tr>\n",
       "    <tr>\n",
       "      <th>100</th>\n",
       "      <td>60000.0</td>\n",
       "      <td>100</td>\n",
       "      <td>False</td>\n",
       "      <td>0.475144</td>\n",
       "    </tr>\n",
       "    <tr>\n",
       "      <th>101</th>\n",
       "      <td>60000.0</td>\n",
       "      <td>100</td>\n",
       "      <td>True</td>\n",
       "      <td>0.603782</td>\n",
       "    </tr>\n",
       "    <tr>\n",
       "      <th>120</th>\n",
       "      <td>70000.0</td>\n",
       "      <td>100</td>\n",
       "      <td>False</td>\n",
       "      <td>0.472700</td>\n",
       "    </tr>\n",
       "    <tr>\n",
       "      <th>121</th>\n",
       "      <td>70000.0</td>\n",
       "      <td>100</td>\n",
       "      <td>True</td>\n",
       "      <td>0.627910</td>\n",
       "    </tr>\n",
       "    <tr>\n",
       "      <th>140</th>\n",
       "      <td>80000.0</td>\n",
       "      <td>100</td>\n",
       "      <td>False</td>\n",
       "      <td>0.482204</td>\n",
       "    </tr>\n",
       "    <tr>\n",
       "      <th>141</th>\n",
       "      <td>80000.0</td>\n",
       "      <td>100</td>\n",
       "      <td>True</td>\n",
       "      <td>0.611574</td>\n",
       "    </tr>\n",
       "    <tr>\n",
       "      <th>160</th>\n",
       "      <td>90000.0</td>\n",
       "      <td>100</td>\n",
       "      <td>False</td>\n",
       "      <td>0.476369</td>\n",
       "    </tr>\n",
       "    <tr>\n",
       "      <th>161</th>\n",
       "      <td>90000.0</td>\n",
       "      <td>100</td>\n",
       "      <td>True</td>\n",
       "      <td>0.634802</td>\n",
       "    </tr>\n",
       "    <tr>\n",
       "      <th>180</th>\n",
       "      <td>100000.0</td>\n",
       "      <td>100</td>\n",
       "      <td>False</td>\n",
       "      <td>0.473555</td>\n",
       "    </tr>\n",
       "    <tr>\n",
       "      <th>181</th>\n",
       "      <td>100000.0</td>\n",
       "      <td>100</td>\n",
       "      <td>True</td>\n",
       "      <td>0.626020</td>\n",
       "    </tr>\n",
       "  </tbody>\n",
       "</table>\n",
       "</div>"
      ],
      "text/plain": [
       "     total_money  num_agents  saving      gini\n",
       "0        10000.0         100   False  0.480143\n",
       "1        10000.0         100    True  0.606903\n",
       "20       20000.0         100   False  0.488479\n",
       "21       20000.0         100    True  0.655820\n",
       "40       30000.0         100   False  0.473415\n",
       "41       30000.0         100    True  0.631622\n",
       "60       40000.0         100   False  0.477590\n",
       "61       40000.0         100    True  0.623049\n",
       "80       50000.0         100   False  0.473747\n",
       "81       50000.0         100    True  0.602335\n",
       "100      60000.0         100   False  0.475144\n",
       "101      60000.0         100    True  0.603782\n",
       "120      70000.0         100   False  0.472700\n",
       "121      70000.0         100    True  0.627910\n",
       "140      80000.0         100   False  0.482204\n",
       "141      80000.0         100    True  0.611574\n",
       "160      90000.0         100   False  0.476369\n",
       "161      90000.0         100    True  0.634802\n",
       "180     100000.0         100   False  0.473555\n",
       "181     100000.0         100    True  0.626020"
      ]
     },
     "execution_count": 16,
     "metadata": {},
     "output_type": "execute_result"
    }
   ],
   "source": [
    "temp_df"
   ]
  },
  {
   "cell_type": "code",
   "execution_count": 17,
   "metadata": {},
   "outputs": [
    {
     "data": {
      "text/plain": [
       "20"
      ]
     },
     "execution_count": 17,
     "metadata": {},
     "output_type": "execute_result"
    }
   ],
   "source": [
    "len(temp_df)"
   ]
  },
  {
   "cell_type": "markdown",
   "metadata": {},
   "source": [
    "验证了一下长度，没问题。确实是 20 组数据。\n",
    "\n",
    "然后我们就可以运用 Altair 的语句，来做出可视化。"
   ]
  },
  {
   "cell_type": "code",
   "execution_count": 37,
   "metadata": {},
   "outputs": [
    {
     "data": {
      "text/html": [
       "\n",
       "<div id=\"altair-viz-523ad765c0a9468f94457eff416a3eab\"></div>\n",
       "<script type=\"text/javascript\">\n",
       "  (function(spec, embedOpt){\n",
       "    const outputDiv = document.getElementById(\"altair-viz-523ad765c0a9468f94457eff416a3eab\");\n",
       "    const paths = {\n",
       "      \"vega\": \"https://cdn.jsdelivr.net/npm//vega@5?noext\",\n",
       "      \"vega-lib\": \"https://cdn.jsdelivr.net/npm//vega-lib?noext\",\n",
       "      \"vega-lite\": \"https://cdn.jsdelivr.net/npm//vega-lite@4.0.2?noext\",\n",
       "      \"vega-embed\": \"https://cdn.jsdelivr.net/npm//vega-embed@6?noext\",\n",
       "    };\n",
       "\n",
       "    function loadScript(lib) {\n",
       "      return new Promise(function(resolve, reject) {\n",
       "        var s = document.createElement('script');\n",
       "        s.src = paths[lib];\n",
       "        s.async = true;\n",
       "        s.onload = () => resolve(paths[lib]);\n",
       "        s.onerror = () => reject(`Error loading script: ${paths[lib]}`);\n",
       "        document.getElementsByTagName(\"head\")[0].appendChild(s);\n",
       "      });\n",
       "    }\n",
       "\n",
       "    function showError(err) {\n",
       "      outputDiv.innerHTML = `<div class=\"error\" style=\"color:red;\">${err}</div>`;\n",
       "      throw err;\n",
       "    }\n",
       "\n",
       "    function displayChart(vegaEmbed) {\n",
       "      vegaEmbed(outputDiv, spec, embedOpt)\n",
       "        .catch(err => showError(`Javascript Error: ${err.message}<br>This usually means there's a typo in your chart specification. See the javascript console for the full traceback.`));\n",
       "    }\n",
       "\n",
       "    if(typeof define === \"function\" && define.amd) {\n",
       "      requirejs.config({paths});\n",
       "      require([\"vega-embed\"], displayChart, err => showError(`Error loading script: ${err.message}`));\n",
       "    } else if (typeof vegaEmbed === \"function\") {\n",
       "      displayChart(vegaEmbed);\n",
       "    } else {\n",
       "      loadScript(\"vega\")\n",
       "        .then(() => loadScript(\"vega-lite\"))\n",
       "        .then(() => loadScript(\"vega-embed\"))\n",
       "        .catch(showError)\n",
       "        .then(() => displayChart(vegaEmbed));\n",
       "    }\n",
       "  })({\"config\": {\"view\": {\"continuousWidth\": 400, \"continuousHeight\": 300}}, \"data\": {\"name\": \"data-3e2e2129ed02b6df89045eaba2e82b67\"}, \"mark\": \"point\", \"encoding\": {\"color\": {\"type\": \"nominal\", \"field\": \"saving\"}, \"x\": {\"type\": \"quantitative\", \"field\": \"total_money\"}, \"y\": {\"type\": \"quantitative\", \"field\": \"gini\"}}, \"width\": 600, \"$schema\": \"https://vega.github.io/schema/vega-lite/v4.0.2.json\", \"datasets\": {\"data-3e2e2129ed02b6df89045eaba2e82b67\": [{\"total_money\": 10000.0, \"num_agents\": 100, \"saving\": false, \"gini\": 0.4801432729906908}, {\"total_money\": 10000.0, \"num_agents\": 100, \"saving\": true, \"gini\": 0.6069029172686314}, {\"total_money\": 20000.0, \"num_agents\": 100, \"saving\": false, \"gini\": 0.48847919291841635}, {\"total_money\": 20000.0, \"num_agents\": 100, \"saving\": true, \"gini\": 0.6558196611889228}, {\"total_money\": 30000.0, \"num_agents\": 100, \"saving\": false, \"gini\": 0.47341546089463504}, {\"total_money\": 30000.0, \"num_agents\": 100, \"saving\": true, \"gini\": 0.6316219370970106}, {\"total_money\": 40000.0, \"num_agents\": 100, \"saving\": false, \"gini\": 0.4775898735762919}, {\"total_money\": 40000.0, \"num_agents\": 100, \"saving\": true, \"gini\": 0.6230489869885405}, {\"total_money\": 50000.0, \"num_agents\": 100, \"saving\": false, \"gini\": 0.47374678620444277}, {\"total_money\": 50000.0, \"num_agents\": 100, \"saving\": true, \"gini\": 0.6023353572407438}, {\"total_money\": 60000.0, \"num_agents\": 100, \"saving\": false, \"gini\": 0.47514366484879744}, {\"total_money\": 60000.0, \"num_agents\": 100, \"saving\": true, \"gini\": 0.6037817159020327}, {\"total_money\": 70000.0, \"num_agents\": 100, \"saving\": false, \"gini\": 0.47270044169002556}, {\"total_money\": 70000.0, \"num_agents\": 100, \"saving\": true, \"gini\": 0.6279095470625096}, {\"total_money\": 80000.0, \"num_agents\": 100, \"saving\": false, \"gini\": 0.48220410152908266}, {\"total_money\": 80000.0, \"num_agents\": 100, \"saving\": true, \"gini\": 0.6115740504028052}, {\"total_money\": 90000.0, \"num_agents\": 100, \"saving\": false, \"gini\": 0.47636887748600587}, {\"total_money\": 90000.0, \"num_agents\": 100, \"saving\": true, \"gini\": 0.6348024520148445}, {\"total_money\": 100000.0, \"num_agents\": 100, \"saving\": false, \"gini\": 0.4735554436625488}, {\"total_money\": 100000.0, \"num_agents\": 100, \"saving\": true, \"gini\": 0.626019837041502}]}}, {\"mode\": \"vega-lite\"});\n",
       "</script>"
      ],
      "text/plain": [
       "alt.Chart(...)"
      ]
     },
     "execution_count": 37,
     "metadata": {},
     "output_type": "execute_result"
    }
   ],
   "source": [
    "alt.Chart(temp_df).mark_point().encode(\n",
    "    alt.X(\"total_money:Q\"),\n",
    "    alt.Y(\"gini:Q\"),\n",
    "    alt.Color(\"saving:N\")\n",
    ").properties(width=600)"
   ]
  },
  {
   "cell_type": "markdown",
   "metadata": {},
   "source": [
    "这里解释一下，其中：\n",
    "\n",
    "- `alt.Chart` 里面指定要进行可视化的数据框，这里是 `temp_df` ；\n",
    "- 你需要指定绘图的类型。因为我们打算在不同的总财富数量上，描摹基尼系数的变化，所以这里可以采用散点图 `mark_point()`；\n",
    "- `encode` 用于指定 X 轴，Y 轴和其他要素。这里是把需要画的内容映射到它们；\n",
    "- X 轴上，用的是总财富 `total_money` ，`:Q` 用于指定变量类型。这里我们将其视为量化数据。 Y 轴与之类似；\n",
    "- `alt.Color()` 用于将 `saving` 变量根据真值类型映射到不同的颜色上。\n",
    "- `properties` 用于指定图的一些其他属性。例如这里，定义宽为 600. 你可以尝试一下，不写这个特性，看看效果如何。"
   ]
  },
  {
   "cell_type": "markdown",
   "metadata": {},
   "source": [
    "altair 最让我喜欢的地方，是它和 matploblib 比起来，更加现代化。和网页可以深度结合，还能支持用户交互。\n",
    "\n",
    "对普通统计图绘制，最大的好处在于对中文的支持。不需要你像 matplotlib 里面添加许多组件儿，直接就能支撑。"
   ]
  },
  {
   "cell_type": "code",
   "execution_count": 39,
   "metadata": {},
   "outputs": [
    {
     "data": {
      "text/html": [
       "\n",
       "<div id=\"altair-viz-785069e2b0904ca898d12bc245d49334\"></div>\n",
       "<script type=\"text/javascript\">\n",
       "  (function(spec, embedOpt){\n",
       "    const outputDiv = document.getElementById(\"altair-viz-785069e2b0904ca898d12bc245d49334\");\n",
       "    const paths = {\n",
       "      \"vega\": \"https://cdn.jsdelivr.net/npm//vega@5?noext\",\n",
       "      \"vega-lib\": \"https://cdn.jsdelivr.net/npm//vega-lib?noext\",\n",
       "      \"vega-lite\": \"https://cdn.jsdelivr.net/npm//vega-lite@4.0.2?noext\",\n",
       "      \"vega-embed\": \"https://cdn.jsdelivr.net/npm//vega-embed@6?noext\",\n",
       "    };\n",
       "\n",
       "    function loadScript(lib) {\n",
       "      return new Promise(function(resolve, reject) {\n",
       "        var s = document.createElement('script');\n",
       "        s.src = paths[lib];\n",
       "        s.async = true;\n",
       "        s.onload = () => resolve(paths[lib]);\n",
       "        s.onerror = () => reject(`Error loading script: ${paths[lib]}`);\n",
       "        document.getElementsByTagName(\"head\")[0].appendChild(s);\n",
       "      });\n",
       "    }\n",
       "\n",
       "    function showError(err) {\n",
       "      outputDiv.innerHTML = `<div class=\"error\" style=\"color:red;\">${err}</div>`;\n",
       "      throw err;\n",
       "    }\n",
       "\n",
       "    function displayChart(vegaEmbed) {\n",
       "      vegaEmbed(outputDiv, spec, embedOpt)\n",
       "        .catch(err => showError(`Javascript Error: ${err.message}<br>This usually means there's a typo in your chart specification. See the javascript console for the full traceback.`));\n",
       "    }\n",
       "\n",
       "    if(typeof define === \"function\" && define.amd) {\n",
       "      requirejs.config({paths});\n",
       "      require([\"vega-embed\"], displayChart, err => showError(`Error loading script: ${err.message}`));\n",
       "    } else if (typeof vegaEmbed === \"function\") {\n",
       "      displayChart(vegaEmbed);\n",
       "    } else {\n",
       "      loadScript(\"vega\")\n",
       "        .then(() => loadScript(\"vega-lite\"))\n",
       "        .then(() => loadScript(\"vega-embed\"))\n",
       "        .catch(showError)\n",
       "        .then(() => displayChart(vegaEmbed));\n",
       "    }\n",
       "  })({\"config\": {\"view\": {\"continuousWidth\": 400, \"continuousHeight\": 300}}, \"data\": {\"name\": \"data-3e2e2129ed02b6df89045eaba2e82b67\"}, \"mark\": \"point\", \"encoding\": {\"color\": {\"type\": \"nominal\", \"field\": \"saving\", \"title\": \"\\u50a8\\u84c4\"}, \"x\": {\"type\": \"quantitative\", \"field\": \"total_money\", \"title\": \"\\u603b\\u8d22\\u5bcc\"}, \"y\": {\"type\": \"quantitative\", \"field\": \"gini\", \"title\": \"\\u57fa\\u5c3c\\u7cfb\\u6570\"}}, \"width\": 600, \"$schema\": \"https://vega.github.io/schema/vega-lite/v4.0.2.json\", \"datasets\": {\"data-3e2e2129ed02b6df89045eaba2e82b67\": [{\"total_money\": 10000.0, \"num_agents\": 100, \"saving\": false, \"gini\": 0.4801432729906908}, {\"total_money\": 10000.0, \"num_agents\": 100, \"saving\": true, \"gini\": 0.6069029172686314}, {\"total_money\": 20000.0, \"num_agents\": 100, \"saving\": false, \"gini\": 0.48847919291841635}, {\"total_money\": 20000.0, \"num_agents\": 100, \"saving\": true, \"gini\": 0.6558196611889228}, {\"total_money\": 30000.0, \"num_agents\": 100, \"saving\": false, \"gini\": 0.47341546089463504}, {\"total_money\": 30000.0, \"num_agents\": 100, \"saving\": true, \"gini\": 0.6316219370970106}, {\"total_money\": 40000.0, \"num_agents\": 100, \"saving\": false, \"gini\": 0.4775898735762919}, {\"total_money\": 40000.0, \"num_agents\": 100, \"saving\": true, \"gini\": 0.6230489869885405}, {\"total_money\": 50000.0, \"num_agents\": 100, \"saving\": false, \"gini\": 0.47374678620444277}, {\"total_money\": 50000.0, \"num_agents\": 100, \"saving\": true, \"gini\": 0.6023353572407438}, {\"total_money\": 60000.0, \"num_agents\": 100, \"saving\": false, \"gini\": 0.47514366484879744}, {\"total_money\": 60000.0, \"num_agents\": 100, \"saving\": true, \"gini\": 0.6037817159020327}, {\"total_money\": 70000.0, \"num_agents\": 100, \"saving\": false, \"gini\": 0.47270044169002556}, {\"total_money\": 70000.0, \"num_agents\": 100, \"saving\": true, \"gini\": 0.6279095470625096}, {\"total_money\": 80000.0, \"num_agents\": 100, \"saving\": false, \"gini\": 0.48220410152908266}, {\"total_money\": 80000.0, \"num_agents\": 100, \"saving\": true, \"gini\": 0.6115740504028052}, {\"total_money\": 90000.0, \"num_agents\": 100, \"saving\": false, \"gini\": 0.47636887748600587}, {\"total_money\": 90000.0, \"num_agents\": 100, \"saving\": true, \"gini\": 0.6348024520148445}, {\"total_money\": 100000.0, \"num_agents\": 100, \"saving\": false, \"gini\": 0.4735554436625488}, {\"total_money\": 100000.0, \"num_agents\": 100, \"saving\": true, \"gini\": 0.626019837041502}]}}, {\"mode\": \"vega-lite\"});\n",
       "</script>"
      ],
      "text/plain": [
       "alt.Chart(...)"
      ]
     },
     "execution_count": 39,
     "metadata": {},
     "output_type": "execute_result"
    }
   ],
   "source": [
    "alt.Chart(temp_df).mark_point().encode(\n",
    "    alt.X(\"total_money:Q\", title=\"总财富\"),\n",
    "    alt.Y(\"gini:Q\",title=\"基尼系数\"),\n",
    "    alt.Color(\"saving:N\",title=\"储蓄\")\n",
    ").properties(width=600)"
   ]
  },
  {
   "cell_type": "markdown",
   "metadata": {},
   "source": [
    "## 思考题\n",
    "\n"
   ]
  },
  {
   "cell_type": "markdown",
   "metadata": {},
   "source": [
    "第 1 题：在散点图的基础上，如果我们希望用折线代表趋势，该怎么办？"
   ]
  },
  {
   "cell_type": "code",
   "execution_count": 43,
   "metadata": {},
   "outputs": [
    {
     "data": {
      "text/html": [
       "\n",
       "<div id=\"altair-viz-f4bb612573554043b8fd365f1e1f1bb4\"></div>\n",
       "<script type=\"text/javascript\">\n",
       "  (function(spec, embedOpt){\n",
       "    const outputDiv = document.getElementById(\"altair-viz-f4bb612573554043b8fd365f1e1f1bb4\");\n",
       "    const paths = {\n",
       "      \"vega\": \"https://cdn.jsdelivr.net/npm//vega@5?noext\",\n",
       "      \"vega-lib\": \"https://cdn.jsdelivr.net/npm//vega-lib?noext\",\n",
       "      \"vega-lite\": \"https://cdn.jsdelivr.net/npm//vega-lite@4.0.2?noext\",\n",
       "      \"vega-embed\": \"https://cdn.jsdelivr.net/npm//vega-embed@6?noext\",\n",
       "    };\n",
       "\n",
       "    function loadScript(lib) {\n",
       "      return new Promise(function(resolve, reject) {\n",
       "        var s = document.createElement('script');\n",
       "        s.src = paths[lib];\n",
       "        s.async = true;\n",
       "        s.onload = () => resolve(paths[lib]);\n",
       "        s.onerror = () => reject(`Error loading script: ${paths[lib]}`);\n",
       "        document.getElementsByTagName(\"head\")[0].appendChild(s);\n",
       "      });\n",
       "    }\n",
       "\n",
       "    function showError(err) {\n",
       "      outputDiv.innerHTML = `<div class=\"error\" style=\"color:red;\">${err}</div>`;\n",
       "      throw err;\n",
       "    }\n",
       "\n",
       "    function displayChart(vegaEmbed) {\n",
       "      vegaEmbed(outputDiv, spec, embedOpt)\n",
       "        .catch(err => showError(`Javascript Error: ${err.message}<br>This usually means there's a typo in your chart specification. See the javascript console for the full traceback.`));\n",
       "    }\n",
       "\n",
       "    if(typeof define === \"function\" && define.amd) {\n",
       "      requirejs.config({paths});\n",
       "      require([\"vega-embed\"], displayChart, err => showError(`Error loading script: ${err.message}`));\n",
       "    } else if (typeof vegaEmbed === \"function\") {\n",
       "      displayChart(vegaEmbed);\n",
       "    } else {\n",
       "      loadScript(\"vega\")\n",
       "        .then(() => loadScript(\"vega-lite\"))\n",
       "        .then(() => loadScript(\"vega-embed\"))\n",
       "        .catch(showError)\n",
       "        .then(() => displayChart(vegaEmbed));\n",
       "    }\n",
       "  })({\"config\": {\"view\": {\"continuousWidth\": 400, \"continuousHeight\": 300}}, \"layer\": [{\"mark\": \"point\", \"encoding\": {\"color\": {\"type\": \"nominal\", \"field\": \"saving\", \"title\": \"\\u50a8\\u84c4\"}, \"x\": {\"type\": \"quantitative\", \"field\": \"total_money\", \"title\": \"\\u603b\\u8d22\\u5bcc\"}, \"y\": {\"type\": \"quantitative\", \"field\": \"gini\", \"title\": \"\\u57fa\\u5c3c\\u7cfb\\u6570\"}}, \"width\": 600}, {\"mark\": \"line\", \"encoding\": {\"color\": {\"type\": \"nominal\", \"field\": \"saving\", \"title\": \"\\u50a8\\u84c4\"}, \"x\": {\"type\": \"quantitative\", \"field\": \"total_money\", \"title\": \"\\u603b\\u8d22\\u5bcc\"}, \"y\": {\"type\": \"quantitative\", \"field\": \"gini\", \"title\": \"\\u57fa\\u5c3c\\u7cfb\\u6570\"}}, \"width\": 600}], \"data\": {\"name\": \"data-3e2e2129ed02b6df89045eaba2e82b67\"}, \"$schema\": \"https://vega.github.io/schema/vega-lite/v4.0.2.json\", \"datasets\": {\"data-3e2e2129ed02b6df89045eaba2e82b67\": [{\"total_money\": 10000.0, \"num_agents\": 100, \"saving\": false, \"gini\": 0.4801432729906908}, {\"total_money\": 10000.0, \"num_agents\": 100, \"saving\": true, \"gini\": 0.6069029172686314}, {\"total_money\": 20000.0, \"num_agents\": 100, \"saving\": false, \"gini\": 0.48847919291841635}, {\"total_money\": 20000.0, \"num_agents\": 100, \"saving\": true, \"gini\": 0.6558196611889228}, {\"total_money\": 30000.0, \"num_agents\": 100, \"saving\": false, \"gini\": 0.47341546089463504}, {\"total_money\": 30000.0, \"num_agents\": 100, \"saving\": true, \"gini\": 0.6316219370970106}, {\"total_money\": 40000.0, \"num_agents\": 100, \"saving\": false, \"gini\": 0.4775898735762919}, {\"total_money\": 40000.0, \"num_agents\": 100, \"saving\": true, \"gini\": 0.6230489869885405}, {\"total_money\": 50000.0, \"num_agents\": 100, \"saving\": false, \"gini\": 0.47374678620444277}, {\"total_money\": 50000.0, \"num_agents\": 100, \"saving\": true, \"gini\": 0.6023353572407438}, {\"total_money\": 60000.0, \"num_agents\": 100, \"saving\": false, \"gini\": 0.47514366484879744}, {\"total_money\": 60000.0, \"num_agents\": 100, \"saving\": true, \"gini\": 0.6037817159020327}, {\"total_money\": 70000.0, \"num_agents\": 100, \"saving\": false, \"gini\": 0.47270044169002556}, {\"total_money\": 70000.0, \"num_agents\": 100, \"saving\": true, \"gini\": 0.6279095470625096}, {\"total_money\": 80000.0, \"num_agents\": 100, \"saving\": false, \"gini\": 0.48220410152908266}, {\"total_money\": 80000.0, \"num_agents\": 100, \"saving\": true, \"gini\": 0.6115740504028052}, {\"total_money\": 90000.0, \"num_agents\": 100, \"saving\": false, \"gini\": 0.47636887748600587}, {\"total_money\": 90000.0, \"num_agents\": 100, \"saving\": true, \"gini\": 0.6348024520148445}, {\"total_money\": 100000.0, \"num_agents\": 100, \"saving\": false, \"gini\": 0.4735554436625488}, {\"total_money\": 100000.0, \"num_agents\": 100, \"saving\": true, \"gini\": 0.626019837041502}]}}, {\"mode\": \"vega-lite\"});\n",
       "</script>"
      ],
      "text/plain": [
       "alt.LayerChart(...)"
      ]
     },
     "execution_count": 43,
     "metadata": {},
     "output_type": "execute_result"
    }
   ],
   "source": [
    "#hide\n",
    "\n",
    "base = alt.Chart(temp_df).mark_point().encode(\n",
    "    alt.X(\"total_money:Q\", title=\"总财富\"),\n",
    "    alt.Y(\"gini:Q\",title=\"基尼系数\"),\n",
    "    alt.Color(\"saving:N\",title=\"储蓄\")\n",
    ").properties(width=600)\n",
    "base + base.mark_line()"
   ]
  },
  {
   "cell_type": "markdown",
   "metadata": {},
   "source": [
    "第 2 题：如果我们不希望用散点图，而是打算用柱状图来描述相同的一组数据，像下图这样，该如何做？"
   ]
  },
  {
   "cell_type": "code",
   "execution_count": 42,
   "metadata": {},
   "outputs": [
    {
     "data": {
      "text/html": [
       "\n",
       "<div id=\"altair-viz-90bcae52d7074f93af44449adbc46371\"></div>\n",
       "<script type=\"text/javascript\">\n",
       "  (function(spec, embedOpt){\n",
       "    const outputDiv = document.getElementById(\"altair-viz-90bcae52d7074f93af44449adbc46371\");\n",
       "    const paths = {\n",
       "      \"vega\": \"https://cdn.jsdelivr.net/npm//vega@5?noext\",\n",
       "      \"vega-lib\": \"https://cdn.jsdelivr.net/npm//vega-lib?noext\",\n",
       "      \"vega-lite\": \"https://cdn.jsdelivr.net/npm//vega-lite@4.0.2?noext\",\n",
       "      \"vega-embed\": \"https://cdn.jsdelivr.net/npm//vega-embed@6?noext\",\n",
       "    };\n",
       "\n",
       "    function loadScript(lib) {\n",
       "      return new Promise(function(resolve, reject) {\n",
       "        var s = document.createElement('script');\n",
       "        s.src = paths[lib];\n",
       "        s.async = true;\n",
       "        s.onload = () => resolve(paths[lib]);\n",
       "        s.onerror = () => reject(`Error loading script: ${paths[lib]}`);\n",
       "        document.getElementsByTagName(\"head\")[0].appendChild(s);\n",
       "      });\n",
       "    }\n",
       "\n",
       "    function showError(err) {\n",
       "      outputDiv.innerHTML = `<div class=\"error\" style=\"color:red;\">${err}</div>`;\n",
       "      throw err;\n",
       "    }\n",
       "\n",
       "    function displayChart(vegaEmbed) {\n",
       "      vegaEmbed(outputDiv, spec, embedOpt)\n",
       "        .catch(err => showError(`Javascript Error: ${err.message}<br>This usually means there's a typo in your chart specification. See the javascript console for the full traceback.`));\n",
       "    }\n",
       "\n",
       "    if(typeof define === \"function\" && define.amd) {\n",
       "      requirejs.config({paths});\n",
       "      require([\"vega-embed\"], displayChart, err => showError(`Error loading script: ${err.message}`));\n",
       "    } else if (typeof vegaEmbed === \"function\") {\n",
       "      displayChart(vegaEmbed);\n",
       "    } else {\n",
       "      loadScript(\"vega\")\n",
       "        .then(() => loadScript(\"vega-lite\"))\n",
       "        .then(() => loadScript(\"vega-embed\"))\n",
       "        .catch(showError)\n",
       "        .then(() => displayChart(vegaEmbed));\n",
       "    }\n",
       "  })({\"config\": {\"view\": {\"continuousWidth\": 400, \"continuousHeight\": 300}}, \"data\": {\"name\": \"data-3e2e2129ed02b6df89045eaba2e82b67\"}, \"mark\": \"bar\", \"encoding\": {\"color\": {\"type\": \"nominal\", \"field\": \"saving\", \"title\": \"\\u50a8\\u84c4\"}, \"column\": {\"type\": \"quantitative\", \"field\": \"total_money\", \"title\": \"\\u603b\\u8d22\\u5bcc\"}, \"x\": {\"type\": \"nominal\", \"field\": \"saving\", \"title\": \"\\u50a8\\u84c4\"}, \"y\": {\"type\": \"quantitative\", \"field\": \"gini\", \"title\": \"\\u57fa\\u5c3c\\u7cfb\\u6570\"}}, \"$schema\": \"https://vega.github.io/schema/vega-lite/v4.0.2.json\", \"datasets\": {\"data-3e2e2129ed02b6df89045eaba2e82b67\": [{\"total_money\": 10000.0, \"num_agents\": 100, \"saving\": false, \"gini\": 0.4801432729906908}, {\"total_money\": 10000.0, \"num_agents\": 100, \"saving\": true, \"gini\": 0.6069029172686314}, {\"total_money\": 20000.0, \"num_agents\": 100, \"saving\": false, \"gini\": 0.48847919291841635}, {\"total_money\": 20000.0, \"num_agents\": 100, \"saving\": true, \"gini\": 0.6558196611889228}, {\"total_money\": 30000.0, \"num_agents\": 100, \"saving\": false, \"gini\": 0.47341546089463504}, {\"total_money\": 30000.0, \"num_agents\": 100, \"saving\": true, \"gini\": 0.6316219370970106}, {\"total_money\": 40000.0, \"num_agents\": 100, \"saving\": false, \"gini\": 0.4775898735762919}, {\"total_money\": 40000.0, \"num_agents\": 100, \"saving\": true, \"gini\": 0.6230489869885405}, {\"total_money\": 50000.0, \"num_agents\": 100, \"saving\": false, \"gini\": 0.47374678620444277}, {\"total_money\": 50000.0, \"num_agents\": 100, \"saving\": true, \"gini\": 0.6023353572407438}, {\"total_money\": 60000.0, \"num_agents\": 100, \"saving\": false, \"gini\": 0.47514366484879744}, {\"total_money\": 60000.0, \"num_agents\": 100, \"saving\": true, \"gini\": 0.6037817159020327}, {\"total_money\": 70000.0, \"num_agents\": 100, \"saving\": false, \"gini\": 0.47270044169002556}, {\"total_money\": 70000.0, \"num_agents\": 100, \"saving\": true, \"gini\": 0.6279095470625096}, {\"total_money\": 80000.0, \"num_agents\": 100, \"saving\": false, \"gini\": 0.48220410152908266}, {\"total_money\": 80000.0, \"num_agents\": 100, \"saving\": true, \"gini\": 0.6115740504028052}, {\"total_money\": 90000.0, \"num_agents\": 100, \"saving\": false, \"gini\": 0.47636887748600587}, {\"total_money\": 90000.0, \"num_agents\": 100, \"saving\": true, \"gini\": 0.6348024520148445}, {\"total_money\": 100000.0, \"num_agents\": 100, \"saving\": false, \"gini\": 0.4735554436625488}, {\"total_money\": 100000.0, \"num_agents\": 100, \"saving\": true, \"gini\": 0.626019837041502}]}}, {\"mode\": \"vega-lite\"});\n",
       "</script>"
      ],
      "text/plain": [
       "alt.Chart(...)"
      ]
     },
     "execution_count": 42,
     "metadata": {},
     "output_type": "execute_result"
    }
   ],
   "source": [
    "#hide\n",
    "\n",
    "alt.Chart(temp_df).mark_bar().encode(\n",
    "alt.X(\"saving:N\", title=\"储蓄\"),\n",
    "    alt.Y(\"gini:Q\",title=\"基尼系数\"),\n",
    "    alt.Color(\"saving:N\",title=\"储蓄\"),\n",
    "    alt.Column(\"total_money:Q\", title=\"总财富\")\n",
    ")"
   ]
  },
  {
   "cell_type": "markdown",
   "metadata": {},
   "source": [
    "第 3 题：刚才的图形里面，咱们只截取了 `num_agents` 为 100 人的情况。如果我们希望用一张图，就把 `num_agents` 的所有取值都展现出来。就像下图一样，该怎么做？"
   ]
  },
  {
   "cell_type": "code",
   "execution_count": 38,
   "metadata": {},
   "outputs": [
    {
     "data": {
      "text/html": [
       "\n",
       "<div id=\"altair-viz-2ca18e14af5144e284d947bda5d7a13a\"></div>\n",
       "<script type=\"text/javascript\">\n",
       "  (function(spec, embedOpt){\n",
       "    const outputDiv = document.getElementById(\"altair-viz-2ca18e14af5144e284d947bda5d7a13a\");\n",
       "    const paths = {\n",
       "      \"vega\": \"https://cdn.jsdelivr.net/npm//vega@5?noext\",\n",
       "      \"vega-lib\": \"https://cdn.jsdelivr.net/npm//vega-lib?noext\",\n",
       "      \"vega-lite\": \"https://cdn.jsdelivr.net/npm//vega-lite@4.0.2?noext\",\n",
       "      \"vega-embed\": \"https://cdn.jsdelivr.net/npm//vega-embed@6?noext\",\n",
       "    };\n",
       "\n",
       "    function loadScript(lib) {\n",
       "      return new Promise(function(resolve, reject) {\n",
       "        var s = document.createElement('script');\n",
       "        s.src = paths[lib];\n",
       "        s.async = true;\n",
       "        s.onload = () => resolve(paths[lib]);\n",
       "        s.onerror = () => reject(`Error loading script: ${paths[lib]}`);\n",
       "        document.getElementsByTagName(\"head\")[0].appendChild(s);\n",
       "      });\n",
       "    }\n",
       "\n",
       "    function showError(err) {\n",
       "      outputDiv.innerHTML = `<div class=\"error\" style=\"color:red;\">${err}</div>`;\n",
       "      throw err;\n",
       "    }\n",
       "\n",
       "    function displayChart(vegaEmbed) {\n",
       "      vegaEmbed(outputDiv, spec, embedOpt)\n",
       "        .catch(err => showError(`Javascript Error: ${err.message}<br>This usually means there's a typo in your chart specification. See the javascript console for the full traceback.`));\n",
       "    }\n",
       "\n",
       "    if(typeof define === \"function\" && define.amd) {\n",
       "      requirejs.config({paths});\n",
       "      require([\"vega-embed\"], displayChart, err => showError(`Error loading script: ${err.message}`));\n",
       "    } else if (typeof vegaEmbed === \"function\") {\n",
       "      displayChart(vegaEmbed);\n",
       "    } else {\n",
       "      loadScript(\"vega\")\n",
       "        .then(() => loadScript(\"vega-lite\"))\n",
       "        .then(() => loadScript(\"vega-embed\"))\n",
       "        .catch(showError)\n",
       "        .then(() => displayChart(vegaEmbed));\n",
       "    }\n",
       "  })({\"config\": {\"view\": {\"continuousWidth\": 400, \"continuousHeight\": 300}}, \"data\": {\"name\": \"data-a9e627d6c4daf68e62ef131fd23b1693\"}, \"mark\": \"point\", \"encoding\": {\"color\": {\"type\": \"nominal\", \"field\": \"saving\"}, \"row\": {\"type\": \"quantitative\", \"field\": \"num_agents\"}, \"x\": {\"type\": \"quantitative\", \"field\": \"total_money\"}, \"y\": {\"type\": \"quantitative\", \"field\": \"gini\"}}, \"width\": 600, \"$schema\": \"https://vega.github.io/schema/vega-lite/v4.0.2.json\", \"datasets\": {\"data-a9e627d6c4daf68e62ef131fd23b1693\": [{\"total_money\": 10000.0, \"num_agents\": 100, \"saving\": false, \"gini\": 0.4801432729906908}, {\"total_money\": 10000.0, \"num_agents\": 100, \"saving\": true, \"gini\": 0.6069029172686314}, {\"total_money\": 10000.0, \"num_agents\": 200, \"saving\": false, \"gini\": 0.49596948923353945}, {\"total_money\": 10000.0, \"num_agents\": 200, \"saving\": true, \"gini\": 0.6628858837704072}, {\"total_money\": 10000.0, \"num_agents\": 300, \"saving\": false, \"gini\": 0.4930317871371724}, {\"total_money\": 10000.0, \"num_agents\": 300, \"saving\": true, \"gini\": 0.6712595878951912}, {\"total_money\": 10000.0, \"num_agents\": 400, \"saving\": false, \"gini\": 0.4980328927760362}, {\"total_money\": 10000.0, \"num_agents\": 400, \"saving\": true, \"gini\": 0.6933799597193179}, {\"total_money\": 10000.0, \"num_agents\": 500, \"saving\": false, \"gini\": 0.49650725540204893}, {\"total_money\": 10000.0, \"num_agents\": 500, \"saving\": true, \"gini\": 0.6937382504869044}, {\"total_money\": 10000.0, \"num_agents\": 600, \"saving\": false, \"gini\": 0.4973843761034882}, {\"total_money\": 10000.0, \"num_agents\": 600, \"saving\": true, \"gini\": 0.7269877597950835}, {\"total_money\": 10000.0, \"num_agents\": 700, \"saving\": false, \"gini\": 0.48970430660424047}, {\"total_money\": 10000.0, \"num_agents\": 700, \"saving\": true, \"gini\": 0.7226436705799039}, {\"total_money\": 10000.0, \"num_agents\": 800, \"saving\": false, \"gini\": 0.49341627583856396}, {\"total_money\": 10000.0, \"num_agents\": 800, \"saving\": true, \"gini\": 0.7113758490919843}, {\"total_money\": 10000.0, \"num_agents\": 900, \"saving\": false, \"gini\": 0.48993021988580415}, {\"total_money\": 10000.0, \"num_agents\": 900, \"saving\": true, \"gini\": 0.7324112231500718}, {\"total_money\": 10000.0, \"num_agents\": 1000, \"saving\": false, \"gini\": 0.494046356245731}, {\"total_money\": 10000.0, \"num_agents\": 1000, \"saving\": true, \"gini\": 0.7396947892021174}, {\"total_money\": 20000.0, \"num_agents\": 100, \"saving\": false, \"gini\": 0.48847919291841635}, {\"total_money\": 20000.0, \"num_agents\": 100, \"saving\": true, \"gini\": 0.6558196611889228}, {\"total_money\": 20000.0, \"num_agents\": 200, \"saving\": false, \"gini\": 0.4871356585894627}, {\"total_money\": 20000.0, \"num_agents\": 200, \"saving\": true, \"gini\": 0.662948909797447}, {\"total_money\": 20000.0, \"num_agents\": 300, \"saving\": false, \"gini\": 0.49086442601087404}, {\"total_money\": 20000.0, \"num_agents\": 300, \"saving\": true, \"gini\": 0.6682087750791171}, {\"total_money\": 20000.0, \"num_agents\": 400, \"saving\": false, \"gini\": 0.493868135172678}, {\"total_money\": 20000.0, \"num_agents\": 400, \"saving\": true, \"gini\": 0.7221845403499187}, {\"total_money\": 20000.0, \"num_agents\": 500, \"saving\": false, \"gini\": 0.4939178109695124}, {\"total_money\": 20000.0, \"num_agents\": 500, \"saving\": true, \"gini\": 0.7100235400206633}, {\"total_money\": 20000.0, \"num_agents\": 600, \"saving\": false, \"gini\": 0.49203844112987805}, {\"total_money\": 20000.0, \"num_agents\": 600, \"saving\": true, \"gini\": 0.7246536271582861}, {\"total_money\": 20000.0, \"num_agents\": 700, \"saving\": false, \"gini\": 0.49614051761491557}, {\"total_money\": 20000.0, \"num_agents\": 700, \"saving\": true, \"gini\": 0.7406658044561133}, {\"total_money\": 20000.0, \"num_agents\": 800, \"saving\": false, \"gini\": 0.49632878792841506}, {\"total_money\": 20000.0, \"num_agents\": 800, \"saving\": true, \"gini\": 0.7402297299453108}, {\"total_money\": 20000.0, \"num_agents\": 900, \"saving\": false, \"gini\": 0.4971033757045994}, {\"total_money\": 20000.0, \"num_agents\": 900, \"saving\": true, \"gini\": 0.7388156745819138}, {\"total_money\": 20000.0, \"num_agents\": 1000, \"saving\": false, \"gini\": 0.4961675090026537}, {\"total_money\": 20000.0, \"num_agents\": 1000, \"saving\": true, \"gini\": 0.7326749626826379}, {\"total_money\": 30000.0, \"num_agents\": 100, \"saving\": false, \"gini\": 0.47341546089463504}, {\"total_money\": 30000.0, \"num_agents\": 100, \"saving\": true, \"gini\": 0.6316219370970106}, {\"total_money\": 30000.0, \"num_agents\": 200, \"saving\": false, \"gini\": 0.48161517100496987}, {\"total_money\": 30000.0, \"num_agents\": 200, \"saving\": true, \"gini\": 0.6544036036470144}, {\"total_money\": 30000.0, \"num_agents\": 300, \"saving\": false, \"gini\": 0.4878812236917079}, {\"total_money\": 30000.0, \"num_agents\": 300, \"saving\": true, \"gini\": 0.6975536203371839}, {\"total_money\": 30000.0, \"num_agents\": 400, \"saving\": false, \"gini\": 0.4924130130891502}, {\"total_money\": 30000.0, \"num_agents\": 400, \"saving\": true, \"gini\": 0.6922142923310706}, {\"total_money\": 30000.0, \"num_agents\": 500, \"saving\": false, \"gini\": 0.49066002991942825}, {\"total_money\": 30000.0, \"num_agents\": 500, \"saving\": true, \"gini\": 0.6943707605538487}, {\"total_money\": 30000.0, \"num_agents\": 600, \"saving\": false, \"gini\": 0.5011035900799324}, {\"total_money\": 30000.0, \"num_agents\": 600, \"saving\": true, \"gini\": 0.7335900121132047}, {\"total_money\": 30000.0, \"num_agents\": 700, \"saving\": false, \"gini\": 0.49371029729691546}, {\"total_money\": 30000.0, \"num_agents\": 700, \"saving\": true, \"gini\": 0.7213491938283638}, {\"total_money\": 30000.0, \"num_agents\": 800, \"saving\": false, \"gini\": 0.49971290047769357}, {\"total_money\": 30000.0, \"num_agents\": 800, \"saving\": true, \"gini\": 0.723893517613746}, {\"total_money\": 30000.0, \"num_agents\": 900, \"saving\": false, \"gini\": 0.4962158103490128}, {\"total_money\": 30000.0, \"num_agents\": 900, \"saving\": true, \"gini\": 0.7297865864804273}, {\"total_money\": 30000.0, \"num_agents\": 1000, \"saving\": false, \"gini\": 0.4960488056313298}, {\"total_money\": 30000.0, \"num_agents\": 1000, \"saving\": true, \"gini\": 0.7237475438175306}, {\"total_money\": 40000.0, \"num_agents\": 100, \"saving\": false, \"gini\": 0.4775898735762919}, {\"total_money\": 40000.0, \"num_agents\": 100, \"saving\": true, \"gini\": 0.6230489869885405}, {\"total_money\": 40000.0, \"num_agents\": 200, \"saving\": false, \"gini\": 0.4783724099656553}, {\"total_money\": 40000.0, \"num_agents\": 200, \"saving\": true, \"gini\": 0.695335491231891}, {\"total_money\": 40000.0, \"num_agents\": 300, \"saving\": false, \"gini\": 0.49701946070729}, {\"total_money\": 40000.0, \"num_agents\": 300, \"saving\": true, \"gini\": 0.6907440599398785}, {\"total_money\": 40000.0, \"num_agents\": 400, \"saving\": false, \"gini\": 0.48665952190586514}, {\"total_money\": 40000.0, \"num_agents\": 400, \"saving\": true, \"gini\": 0.7002177516033845}, {\"total_money\": 40000.0, \"num_agents\": 500, \"saving\": false, \"gini\": 0.4971036000308984}, {\"total_money\": 40000.0, \"num_agents\": 500, \"saving\": true, \"gini\": 0.7548698264986697}, {\"total_money\": 40000.0, \"num_agents\": 600, \"saving\": false, \"gini\": 0.4993700292964225}, {\"total_money\": 40000.0, \"num_agents\": 600, \"saving\": true, \"gini\": 0.7188755955903527}, {\"total_money\": 40000.0, \"num_agents\": 700, \"saving\": false, \"gini\": 0.49117452799071604}, {\"total_money\": 40000.0, \"num_agents\": 700, \"saving\": true, \"gini\": 0.7186679258981621}, {\"total_money\": 40000.0, \"num_agents\": 800, \"saving\": false, \"gini\": 0.4938603165209285}, {\"total_money\": 40000.0, \"num_agents\": 800, \"saving\": true, \"gini\": 0.7314170404481541}, {\"total_money\": 40000.0, \"num_agents\": 900, \"saving\": false, \"gini\": 0.499205311883694}, {\"total_money\": 40000.0, \"num_agents\": 900, \"saving\": true, \"gini\": 0.7118016909898872}, {\"total_money\": 40000.0, \"num_agents\": 1000, \"saving\": false, \"gini\": 0.5022872921529375}, {\"total_money\": 40000.0, \"num_agents\": 1000, \"saving\": true, \"gini\": 0.7380863231418441}, {\"total_money\": 50000.0, \"num_agents\": 100, \"saving\": false, \"gini\": 0.47374678620444277}, {\"total_money\": 50000.0, \"num_agents\": 100, \"saving\": true, \"gini\": 0.6023353572407438}, {\"total_money\": 50000.0, \"num_agents\": 200, \"saving\": false, \"gini\": 0.4952030577273702}, {\"total_money\": 50000.0, \"num_agents\": 200, \"saving\": true, \"gini\": 0.6637113899061056}, {\"total_money\": 50000.0, \"num_agents\": 300, \"saving\": false, \"gini\": 0.4954529699516961}, {\"total_money\": 50000.0, \"num_agents\": 300, \"saving\": true, \"gini\": 0.6834257598303113}, {\"total_money\": 50000.0, \"num_agents\": 400, \"saving\": false, \"gini\": 0.5011408134706319}, {\"total_money\": 50000.0, \"num_agents\": 400, \"saving\": true, \"gini\": 0.7107215241891488}, {\"total_money\": 50000.0, \"num_agents\": 500, \"saving\": false, \"gini\": 0.4946074498523069}, {\"total_money\": 50000.0, \"num_agents\": 500, \"saving\": true, \"gini\": 0.7101420416310988}, {\"total_money\": 50000.0, \"num_agents\": 600, \"saving\": false, \"gini\": 0.49548909489595117}, {\"total_money\": 50000.0, \"num_agents\": 600, \"saving\": true, \"gini\": 0.7090550749905553}, {\"total_money\": 50000.0, \"num_agents\": 700, \"saving\": false, \"gini\": 0.5007951127621302}, {\"total_money\": 50000.0, \"num_agents\": 700, \"saving\": true, \"gini\": 0.7337801403394939}, {\"total_money\": 50000.0, \"num_agents\": 800, \"saving\": false, \"gini\": 0.5007359221572916}, {\"total_money\": 50000.0, \"num_agents\": 800, \"saving\": true, \"gini\": 0.7385713838813345}, {\"total_money\": 50000.0, \"num_agents\": 900, \"saving\": false, \"gini\": 0.49983166492106673}, {\"total_money\": 50000.0, \"num_agents\": 900, \"saving\": true, \"gini\": 0.7247072017437721}, {\"total_money\": 50000.0, \"num_agents\": 1000, \"saving\": false, \"gini\": 0.49687929287188026}, {\"total_money\": 50000.0, \"num_agents\": 1000, \"saving\": true, \"gini\": 0.732618051430433}, {\"total_money\": 60000.0, \"num_agents\": 100, \"saving\": false, \"gini\": 0.47514366484879744}, {\"total_money\": 60000.0, \"num_agents\": 100, \"saving\": true, \"gini\": 0.6037817159020327}, {\"total_money\": 60000.0, \"num_agents\": 200, \"saving\": false, \"gini\": 0.47929019947597257}, {\"total_money\": 60000.0, \"num_agents\": 200, \"saving\": true, \"gini\": 0.6800051691961269}, {\"total_money\": 60000.0, \"num_agents\": 300, \"saving\": false, \"gini\": 0.4970139139458013}, {\"total_money\": 60000.0, \"num_agents\": 300, \"saving\": true, \"gini\": 0.6983338716331684}, {\"total_money\": 60000.0, \"num_agents\": 400, \"saving\": false, \"gini\": 0.4905139236334556}, {\"total_money\": 60000.0, \"num_agents\": 400, \"saving\": true, \"gini\": 0.7201886959203363}, {\"total_money\": 60000.0, \"num_agents\": 500, \"saving\": false, \"gini\": 0.49880216771169783}, {\"total_money\": 60000.0, \"num_agents\": 500, \"saving\": true, \"gini\": 0.7276258643273057}, {\"total_money\": 60000.0, \"num_agents\": 600, \"saving\": false, \"gini\": 0.4918087167119044}, {\"total_money\": 60000.0, \"num_agents\": 600, \"saving\": true, \"gini\": 0.7231351655164782}, {\"total_money\": 60000.0, \"num_agents\": 700, \"saving\": false, \"gini\": 0.4915437132721978}, {\"total_money\": 60000.0, \"num_agents\": 700, \"saving\": true, \"gini\": 0.7163110918804403}, {\"total_money\": 60000.0, \"num_agents\": 800, \"saving\": false, \"gini\": 0.49762678713275565}, {\"total_money\": 60000.0, \"num_agents\": 800, \"saving\": true, \"gini\": 0.7277714810049214}, {\"total_money\": 60000.0, \"num_agents\": 900, \"saving\": false, \"gini\": 0.49469497693062897}, {\"total_money\": 60000.0, \"num_agents\": 900, \"saving\": true, \"gini\": 0.7428082007074568}, {\"total_money\": 60000.0, \"num_agents\": 1000, \"saving\": false, \"gini\": 0.4989211498331292}, {\"total_money\": 60000.0, \"num_agents\": 1000, \"saving\": true, \"gini\": 0.7280317033763442}, {\"total_money\": 70000.0, \"num_agents\": 100, \"saving\": false, \"gini\": 0.47270044169002556}, {\"total_money\": 70000.0, \"num_agents\": 100, \"saving\": true, \"gini\": 0.6279095470625096}, {\"total_money\": 70000.0, \"num_agents\": 200, \"saving\": false, \"gini\": 0.49711265413485384}, {\"total_money\": 70000.0, \"num_agents\": 200, \"saving\": true, \"gini\": 0.6835978622547201}, {\"total_money\": 70000.0, \"num_agents\": 300, \"saving\": false, \"gini\": 0.48850541640513}, {\"total_money\": 70000.0, \"num_agents\": 300, \"saving\": true, \"gini\": 0.7227275023112286}, {\"total_money\": 70000.0, \"num_agents\": 400, \"saving\": false, \"gini\": 0.4840295249601322}, {\"total_money\": 70000.0, \"num_agents\": 400, \"saving\": true, \"gini\": 0.7188022096436227}, {\"total_money\": 70000.0, \"num_agents\": 500, \"saving\": false, \"gini\": 0.4889086071092055}, {\"total_money\": 70000.0, \"num_agents\": 500, \"saving\": true, \"gini\": 0.7176315222679341}, {\"total_money\": 70000.0, \"num_agents\": 600, \"saving\": false, \"gini\": 0.4917146316386778}, {\"total_money\": 70000.0, \"num_agents\": 600, \"saving\": true, \"gini\": 0.6961426332816714}, {\"total_money\": 70000.0, \"num_agents\": 700, \"saving\": false, \"gini\": 0.49380491381897895}, {\"total_money\": 70000.0, \"num_agents\": 700, \"saving\": true, \"gini\": 0.745193509106636}, {\"total_money\": 70000.0, \"num_agents\": 800, \"saving\": false, \"gini\": 0.49779016822359046}, {\"total_money\": 70000.0, \"num_agents\": 800, \"saving\": true, \"gini\": 0.7479089991198721}, {\"total_money\": 70000.0, \"num_agents\": 900, \"saving\": false, \"gini\": 0.4992093173479475}, {\"total_money\": 70000.0, \"num_agents\": 900, \"saving\": true, \"gini\": 0.739218141651891}, {\"total_money\": 70000.0, \"num_agents\": 1000, \"saving\": false, \"gini\": 0.49958548739946096}, {\"total_money\": 70000.0, \"num_agents\": 1000, \"saving\": true, \"gini\": 0.7490866882154088}, {\"total_money\": 80000.0, \"num_agents\": 100, \"saving\": false, \"gini\": 0.48220410152908266}, {\"total_money\": 80000.0, \"num_agents\": 100, \"saving\": true, \"gini\": 0.6115740504028052}, {\"total_money\": 80000.0, \"num_agents\": 200, \"saving\": false, \"gini\": 0.49025706373193767}, {\"total_money\": 80000.0, \"num_agents\": 200, \"saving\": true, \"gini\": 0.6643888317268091}, {\"total_money\": 80000.0, \"num_agents\": 300, \"saving\": false, \"gini\": 0.4977359485014616}, {\"total_money\": 80000.0, \"num_agents\": 300, \"saving\": true, \"gini\": 0.7011538924189249}, {\"total_money\": 80000.0, \"num_agents\": 400, \"saving\": false, \"gini\": 0.49236808105782515}, {\"total_money\": 80000.0, \"num_agents\": 400, \"saving\": true, \"gini\": 0.7148524646840092}, {\"total_money\": 80000.0, \"num_agents\": 500, \"saving\": false, \"gini\": 0.49329661431239724}, {\"total_money\": 80000.0, \"num_agents\": 500, \"saving\": true, \"gini\": 0.7277249837222707}, {\"total_money\": 80000.0, \"num_agents\": 600, \"saving\": false, \"gini\": 0.49843408759305047}, {\"total_money\": 80000.0, \"num_agents\": 600, \"saving\": true, \"gini\": 0.7234541597945492}, {\"total_money\": 80000.0, \"num_agents\": 700, \"saving\": false, \"gini\": 0.4979174376886587}, {\"total_money\": 80000.0, \"num_agents\": 700, \"saving\": true, \"gini\": 0.7513606770505212}, {\"total_money\": 80000.0, \"num_agents\": 800, \"saving\": false, \"gini\": 0.5001543988973955}, {\"total_money\": 80000.0, \"num_agents\": 800, \"saving\": true, \"gini\": 0.7350144118540256}, {\"total_money\": 80000.0, \"num_agents\": 900, \"saving\": false, \"gini\": 0.4912899893274251}, {\"total_money\": 80000.0, \"num_agents\": 900, \"saving\": true, \"gini\": 0.7263214674430876}, {\"total_money\": 80000.0, \"num_agents\": 1000, \"saving\": false, \"gini\": 0.49459443004282255}, {\"total_money\": 80000.0, \"num_agents\": 1000, \"saving\": true, \"gini\": 0.7482051816500335}, {\"total_money\": 90000.0, \"num_agents\": 100, \"saving\": false, \"gini\": 0.47636887748600587}, {\"total_money\": 90000.0, \"num_agents\": 100, \"saving\": true, \"gini\": 0.6348024520148445}, {\"total_money\": 90000.0, \"num_agents\": 200, \"saving\": false, \"gini\": 0.4886960018735581}, {\"total_money\": 90000.0, \"num_agents\": 200, \"saving\": true, \"gini\": 0.6787929990942675}, {\"total_money\": 90000.0, \"num_agents\": 300, \"saving\": false, \"gini\": 0.4877780404860039}, {\"total_money\": 90000.0, \"num_agents\": 300, \"saving\": true, \"gini\": 0.6871189234833922}, {\"total_money\": 90000.0, \"num_agents\": 400, \"saving\": false, \"gini\": 0.48926607098719294}, {\"total_money\": 90000.0, \"num_agents\": 400, \"saving\": true, \"gini\": 0.6723438932589364}, {\"total_money\": 90000.0, \"num_agents\": 500, \"saving\": false, \"gini\": 0.49866950848989006}, {\"total_money\": 90000.0, \"num_agents\": 500, \"saving\": true, \"gini\": 0.7112395625640507}, {\"total_money\": 90000.0, \"num_agents\": 600, \"saving\": false, \"gini\": 0.4904336306241233}, {\"total_money\": 90000.0, \"num_agents\": 600, \"saving\": true, \"gini\": 0.7164307298804466}, {\"total_money\": 90000.0, \"num_agents\": 700, \"saving\": false, \"gini\": 0.49613513073679727}, {\"total_money\": 90000.0, \"num_agents\": 700, \"saving\": true, \"gini\": 0.7224091413837577}, {\"total_money\": 90000.0, \"num_agents\": 800, \"saving\": false, \"gini\": 0.4961648805458993}, {\"total_money\": 90000.0, \"num_agents\": 800, \"saving\": true, \"gini\": 0.7414721572495534}, {\"total_money\": 90000.0, \"num_agents\": 900, \"saving\": false, \"gini\": 0.49732157661962645}, {\"total_money\": 90000.0, \"num_agents\": 900, \"saving\": true, \"gini\": 0.7390807106853953}, {\"total_money\": 90000.0, \"num_agents\": 1000, \"saving\": false, \"gini\": 0.5005699923242118}, {\"total_money\": 90000.0, \"num_agents\": 1000, \"saving\": true, \"gini\": 0.7331706616217015}, {\"total_money\": 100000.0, \"num_agents\": 100, \"saving\": false, \"gini\": 0.4735554436625488}, {\"total_money\": 100000.0, \"num_agents\": 100, \"saving\": true, \"gini\": 0.626019837041502}, {\"total_money\": 100000.0, \"num_agents\": 200, \"saving\": false, \"gini\": 0.4786514011690771}, {\"total_money\": 100000.0, \"num_agents\": 200, \"saving\": true, \"gini\": 0.6563817380473257}, {\"total_money\": 100000.0, \"num_agents\": 300, \"saving\": false, \"gini\": 0.4859211155872615}, {\"total_money\": 100000.0, \"num_agents\": 300, \"saving\": true, \"gini\": 0.7045176650809737}, {\"total_money\": 100000.0, \"num_agents\": 400, \"saving\": false, \"gini\": 0.49548286781415324}, {\"total_money\": 100000.0, \"num_agents\": 400, \"saving\": true, \"gini\": 0.7089073592494082}, {\"total_money\": 100000.0, \"num_agents\": 500, \"saving\": false, \"gini\": 0.4888833197656696}, {\"total_money\": 100000.0, \"num_agents\": 500, \"saving\": true, \"gini\": 0.7165743675167688}, {\"total_money\": 100000.0, \"num_agents\": 600, \"saving\": false, \"gini\": 0.5032866684343579}, {\"total_money\": 100000.0, \"num_agents\": 600, \"saving\": true, \"gini\": 0.715743562448475}, {\"total_money\": 100000.0, \"num_agents\": 700, \"saving\": false, \"gini\": 0.4960709857812889}, {\"total_money\": 100000.0, \"num_agents\": 700, \"saving\": true, \"gini\": 0.7123497347677954}, {\"total_money\": 100000.0, \"num_agents\": 800, \"saving\": false, \"gini\": 0.5030836913894616}, {\"total_money\": 100000.0, \"num_agents\": 800, \"saving\": true, \"gini\": 0.7355971974232082}, {\"total_money\": 100000.0, \"num_agents\": 900, \"saving\": false, \"gini\": 0.4996571250549283}, {\"total_money\": 100000.0, \"num_agents\": 900, \"saving\": true, \"gini\": 0.7209303578277978}, {\"total_money\": 100000.0, \"num_agents\": 1000, \"saving\": false, \"gini\": 0.49561304351165864}, {\"total_money\": 100000.0, \"num_agents\": 1000, \"saving\": true, \"gini\": 0.7509431580816633}]}}, {\"mode\": \"vega-lite\"});\n",
       "</script>"
      ],
      "text/plain": [
       "alt.Chart(...)"
      ]
     },
     "execution_count": 38,
     "metadata": {},
     "output_type": "execute_result"
    }
   ],
   "source": [
    "#hide\n",
    "\n",
    "alt.Chart(df).mark_point().encode(\n",
    "    alt.X(\"total_money:Q\"),\n",
    "    alt.Y(\"gini:Q\"),\n",
    "    alt.Color(\"saving:N\"),\n",
    "    alt.Row(\"num_agents:Q\")\n",
    ").properties(width=600)"
   ]
  }
 ],
 "metadata": {
  "kernelspec": {
   "display_name": "Python 3",
   "language": "python",
   "name": "python3"
  },
  "language_info": {
   "codemirror_mode": {
    "name": "ipython",
    "version": 3
   },
   "file_extension": ".py",
   "mimetype": "text/x-python",
   "name": "python",
   "nbconvert_exporter": "python",
   "pygments_lexer": "ipython3",
   "version": "3.6.10"
  }
 },
 "nbformat": 4,
 "nbformat_minor": 4
}
